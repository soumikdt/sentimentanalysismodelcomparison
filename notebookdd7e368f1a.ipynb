{
 "cells": [
  {
   "cell_type": "markdown",
   "metadata": {},
   "source": [
    "## Install library"
   ]
  },
  {
   "cell_type": "code",
   "execution_count": 5,
   "metadata": {},
   "outputs": [],
   "source": [
    "import warnings\n",
    "warnings.filterwarnings('ignore')"
   ]
  },
  {
   "cell_type": "code",
   "execution_count": 6,
   "metadata": {
    "execution": {
     "iopub.execute_input": "2023-04-14T10:59:48.154969Z",
     "iopub.status.busy": "2023-04-14T10:59:48.154504Z",
     "iopub.status.idle": "2023-04-14T11:00:00.894665Z",
     "shell.execute_reply": "2023-04-14T11:00:00.892995Z",
     "shell.execute_reply.started": "2023-04-14T10:59:48.154937Z"
    },
    "trusted": true
   },
   "outputs": [
    {
     "data": {
      "text/plain": [
       "\"\\n!pip install contractions\\n!pip install bs4\\n!pip install nltk\\n!pip install tensorflow\\n!pip install keras-tuner\\n!pip install pydot\\n!pip install xgboost\\nimport nltk\\nnltk.download('punkt_tab')\\n\""
      ]
     },
     "execution_count": 6,
     "metadata": {},
     "output_type": "execute_result"
    }
   ],
   "source": [
    "'''\n",
    "!pip install contractions\n",
    "!pip install bs4\n",
    "!pip install nltk\n",
    "!pip install tensorflow\n",
    "!pip install keras-tuner\n",
    "!pip install pydot\n",
    "!pip install xgboost\n",
    "import nltk\n",
    "nltk.download('punkt_tab')\n",
    "'''\n"
   ]
  },
  {
   "cell_type": "code",
   "execution_count": null,
   "metadata": {},
   "outputs": [],
   "source": []
  },
  {
   "cell_type": "code",
   "execution_count": 7,
   "metadata": {},
   "outputs": [
    {
     "name": "stderr",
     "output_type": "stream",
     "text": [
      "[nltk_data] Downloading package punkt_tab to\n",
      "[nltk_data]     /Users/mimuw2022/nltk_data...\n",
      "[nltk_data]   Package punkt_tab is already up-to-date!\n"
     ]
    },
    {
     "data": {
      "text/plain": [
       "True"
      ]
     },
     "execution_count": 7,
     "metadata": {},
     "output_type": "execute_result"
    }
   ],
   "source": [
    "import nltk\n",
    "nltk.download('punkt_tab')\n"
   ]
  },
  {
   "cell_type": "markdown",
   "metadata": {},
   "source": [
    "## Load data"
   ]
  },
  {
   "cell_type": "code",
   "execution_count": 8,
   "metadata": {
    "execution": {
     "iopub.execute_input": "2023-04-14T11:00:00.898998Z",
     "iopub.status.busy": "2023-04-14T11:00:00.897789Z",
     "iopub.status.idle": "2023-04-14T11:00:00.968307Z",
     "shell.execute_reply": "2023-04-14T11:00:00.965918Z",
     "shell.execute_reply.started": "2023-04-14T11:00:00.898951Z"
    },
    "trusted": true
   },
   "outputs": [
    {
     "name": "stdout",
     "output_type": "stream",
     "text": [
      "<class 'pandas.core.frame.DataFrame'>\n",
      "RangeIndex: 4846 entries, 0 to 4845\n",
      "Data columns (total 2 columns):\n",
      " #   Column     Non-Null Count  Dtype \n",
      "---  ------     --------------  ----- \n",
      " 0   Sentiment  4846 non-null   object\n",
      " 1   Sentence   4846 non-null   object\n",
      "dtypes: object(2)\n",
      "memory usage: 75.8+ KB\n"
     ]
    }
   ],
   "source": [
    "import pandas as pd\n",
    "\n",
    "df = pd.read_csv('all-data.csv', delimiter=',', encoding='latin-1', header=None)\n",
    "df = df.rename(columns=lambda x: ['Sentiment', 'Sentence'][x])\n",
    "df.info()"
   ]
  },
  {
   "cell_type": "code",
   "execution_count": 9,
   "metadata": {
    "execution": {
     "iopub.execute_input": "2023-04-14T11:00:00.970866Z",
     "iopub.status.busy": "2023-04-14T11:00:00.970485Z",
     "iopub.status.idle": "2023-04-14T11:00:01.001142Z",
     "shell.execute_reply": "2023-04-14T11:00:00.999264Z",
     "shell.execute_reply.started": "2023-04-14T11:00:00.97083Z"
    },
    "trusted": true
   },
   "outputs": [
    {
     "data": {
      "text/html": [
       "<div>\n",
       "<style scoped>\n",
       "    .dataframe tbody tr th:only-of-type {\n",
       "        vertical-align: middle;\n",
       "    }\n",
       "\n",
       "    .dataframe tbody tr th {\n",
       "        vertical-align: top;\n",
       "    }\n",
       "\n",
       "    .dataframe thead th {\n",
       "        text-align: right;\n",
       "    }\n",
       "</style>\n",
       "<table border=\"1\" class=\"dataframe\">\n",
       "  <thead>\n",
       "    <tr style=\"text-align: right;\">\n",
       "      <th></th>\n",
       "      <th>Sentence</th>\n",
       "      <th>Sentiment</th>\n",
       "    </tr>\n",
       "  </thead>\n",
       "  <tbody>\n",
       "    <tr>\n",
       "      <th>0</th>\n",
       "      <td>According to Gran , the company has no plans t...</td>\n",
       "      <td>neutral</td>\n",
       "    </tr>\n",
       "    <tr>\n",
       "      <th>1</th>\n",
       "      <td>Technopolis plans to develop in stages an area...</td>\n",
       "      <td>neutral</td>\n",
       "    </tr>\n",
       "    <tr>\n",
       "      <th>2</th>\n",
       "      <td>The international electronic industry company ...</td>\n",
       "      <td>negative</td>\n",
       "    </tr>\n",
       "    <tr>\n",
       "      <th>3</th>\n",
       "      <td>With the new production plant the company woul...</td>\n",
       "      <td>positive</td>\n",
       "    </tr>\n",
       "    <tr>\n",
       "      <th>4</th>\n",
       "      <td>According to the company 's updated strategy f...</td>\n",
       "      <td>positive</td>\n",
       "    </tr>\n",
       "  </tbody>\n",
       "</table>\n",
       "</div>"
      ],
      "text/plain": [
       "                                            Sentence Sentiment\n",
       "0  According to Gran , the company has no plans t...   neutral\n",
       "1  Technopolis plans to develop in stages an area...   neutral\n",
       "2  The international electronic industry company ...  negative\n",
       "3  With the new production plant the company woul...  positive\n",
       "4  According to the company 's updated strategy f...  positive"
      ]
     },
     "execution_count": 9,
     "metadata": {},
     "output_type": "execute_result"
    }
   ],
   "source": [
    "df = df[['Sentence', 'Sentiment']]\n",
    "df.head()"
   ]
  },
  {
   "cell_type": "markdown",
   "metadata": {},
   "source": [
    "## A (very) short Exploratory data analysis"
   ]
  },
  {
   "cell_type": "code",
   "execution_count": 10,
   "metadata": {
    "execution": {
     "iopub.execute_input": "2023-04-14T11:00:01.004406Z",
     "iopub.status.busy": "2023-04-14T11:00:01.003925Z",
     "iopub.status.idle": "2023-04-14T11:00:01.018962Z",
     "shell.execute_reply": "2023-04-14T11:00:01.017757Z",
     "shell.execute_reply.started": "2023-04-14T11:00:01.004358Z"
    },
    "trusted": true
   },
   "outputs": [
    {
     "data": {
      "text/html": [
       "<div>\n",
       "<style scoped>\n",
       "    .dataframe tbody tr th:only-of-type {\n",
       "        vertical-align: middle;\n",
       "    }\n",
       "\n",
       "    .dataframe tbody tr th {\n",
       "        vertical-align: top;\n",
       "    }\n",
       "\n",
       "    .dataframe thead th {\n",
       "        text-align: right;\n",
       "    }\n",
       "</style>\n",
       "<table border=\"1\" class=\"dataframe\">\n",
       "  <thead>\n",
       "    <tr style=\"text-align: right;\">\n",
       "      <th></th>\n",
       "      <th>Sentence</th>\n",
       "      <th>Sentiment</th>\n",
       "    </tr>\n",
       "  </thead>\n",
       "  <tbody>\n",
       "    <tr>\n",
       "      <th>2</th>\n",
       "      <td>The international electronic industry company ...</td>\n",
       "      <td>negative</td>\n",
       "    </tr>\n",
       "    <tr>\n",
       "      <th>3</th>\n",
       "      <td>With the new production plant the company woul...</td>\n",
       "      <td>positive</td>\n",
       "    </tr>\n",
       "    <tr>\n",
       "      <th>4</th>\n",
       "      <td>According to the company 's updated strategy f...</td>\n",
       "      <td>positive</td>\n",
       "    </tr>\n",
       "    <tr>\n",
       "      <th>5</th>\n",
       "      <td>FINANCING OF ASPOCOMP 'S GROWTH Aspocomp is ag...</td>\n",
       "      <td>positive</td>\n",
       "    </tr>\n",
       "    <tr>\n",
       "      <th>6</th>\n",
       "      <td>For the last quarter of 2010 , Componenta 's n...</td>\n",
       "      <td>positive</td>\n",
       "    </tr>\n",
       "  </tbody>\n",
       "</table>\n",
       "</div>"
      ],
      "text/plain": [
       "                                            Sentence Sentiment\n",
       "2  The international electronic industry company ...  negative\n",
       "3  With the new production plant the company woul...  positive\n",
       "4  According to the company 's updated strategy f...  positive\n",
       "5  FINANCING OF ASPOCOMP 'S GROWTH Aspocomp is ag...  positive\n",
       "6  For the last quarter of 2010 , Componenta 's n...  positive"
      ]
     },
     "execution_count": 10,
     "metadata": {},
     "output_type": "execute_result"
    }
   ],
   "source": [
    "df = df[df.Sentiment != \"neutral\"]\n",
    "df.head()"
   ]
  },
  {
   "cell_type": "code",
   "execution_count": 11,
   "metadata": {
    "execution": {
     "iopub.execute_input": "2023-04-14T11:00:01.021158Z",
     "iopub.status.busy": "2023-04-14T11:00:01.02075Z",
     "iopub.status.idle": "2023-04-14T11:00:01.035738Z",
     "shell.execute_reply": "2023-04-14T11:00:01.03356Z",
     "shell.execute_reply.started": "2023-04-14T11:00:01.021102Z"
    },
    "trusted": true
   },
   "outputs": [
    {
     "name": "stdout",
     "output_type": "stream",
     "text": [
      "<class 'pandas.core.frame.DataFrame'>\n",
      "Index: 1967 entries, 2 to 4845\n",
      "Data columns (total 2 columns):\n",
      " #   Column     Non-Null Count  Dtype \n",
      "---  ------     --------------  ----- \n",
      " 0   Sentence   1967 non-null   object\n",
      " 1   Sentiment  1967 non-null   object\n",
      "dtypes: object(2)\n",
      "memory usage: 46.1+ KB\n"
     ]
    }
   ],
   "source": [
    "df.info()"
   ]
  },
  {
   "cell_type": "markdown",
   "metadata": {},
   "source": [
    "### Sentiment distribution"
   ]
  },
  {
   "cell_type": "code",
   "execution_count": 12,
   "metadata": {
    "execution": {
     "iopub.execute_input": "2023-04-14T11:00:01.037896Z",
     "iopub.status.busy": "2023-04-14T11:00:01.037471Z",
     "iopub.status.idle": "2023-04-14T11:00:01.868959Z",
     "shell.execute_reply": "2023-04-14T11:00:01.867736Z",
     "shell.execute_reply.started": "2023-04-14T11:00:01.037859Z"
    },
    "trusted": true
   },
   "outputs": [
    {
     "data": {
      "image/png": "[encoded data removed]",
      "text/plain": [
       "<Figure size 1200x400 with 1 Axes>"
      ]
     },
     "metadata": {},
     "output_type": "display_data"
    }
   ],
   "source": [
    "import seaborn as sns\n",
    "import matplotlib.pyplot as plt\n",
    "\n",
    "sentiment = df['Sentiment'].value_counts()\n",
    "plt.figure(figsize=(12,4))\n",
    "sns.barplot(x=sentiment.index, y=sentiment.values, alpha=0.8)\n",
    "plt.ylabel('Number of Occurrences', fontsize=12)\n",
    "plt.xlabel('sentiment', fontsize=12)\n",
    "plt.xticks(rotation=90)\n",
    "plt.show();"
   ]
  },
  {
   "cell_type": "markdown",
   "metadata": {},
   "source": [
    "## Data preparation"
   ]
  },
  {
   "cell_type": "markdown",
   "metadata": {},
   "source": [
    "### Data cleaning"
   ]
  },
  {
   "cell_type": "code",
   "execution_count": 13,
   "metadata": {
    "execution": {
     "iopub.execute_input": "2023-04-14T11:00:01.870395Z",
     "iopub.status.busy": "2023-04-14T11:00:01.870097Z",
     "iopub.status.idle": "2023-04-14T11:00:02.077304Z",
     "shell.execute_reply": "2023-04-14T11:00:02.076201Z",
     "shell.execute_reply.started": "2023-04-14T11:00:01.870367Z"
    },
    "trusted": true
   },
   "outputs": [],
   "source": [
    "from bs4 import BeautifulSoup\n",
    "\n",
    "def strip_html_tags(text):\n",
    "  soup = BeautifulSoup(text, \"html.parser\")\n",
    "  [s.extract() for s in soup(['iframe', 'script'])]\n",
    "  stripped_text = soup.get_text()\n",
    "  stripped_text = re.sub(r'[\\r|\\n|\\r\\n]+', '\\n', stripped_text)\n",
    "  return stripped_text\n",
    "\n",
    "def remove_accented_chars(text):\n",
    "  text = unicodedata.normalize('NFKD', text).encode('ascii', 'ignore').decode('utf-8', 'ignore')\n",
    "  return text\n",
    "\n",
    "def stopwords_removal(words):\n",
    "    list_stopwords = nltk.corpus.stopwords.words('english')\n",
    "    return [word for word in words if word not in list_stopwords]"
   ]
  },
  {
   "cell_type": "code",
   "execution_count": 14,
   "metadata": {
    "execution": {
     "iopub.execute_input": "2023-04-14T11:00:02.079237Z",
     "iopub.status.busy": "2023-04-14T11:00:02.078551Z",
     "iopub.status.idle": "2023-04-14T11:00:02.918444Z",
     "shell.execute_reply": "2023-04-14T11:00:02.917348Z",
     "shell.execute_reply.started": "2023-04-14T11:00:02.079208Z"
    },
    "trusted": true
   },
   "outputs": [],
   "source": [
    "import re\n",
    "import nltk\n",
    "import tqdm\n",
    "import unicodedata\n",
    "import contractions\n",
    "\n",
    "from nltk.tokenize import word_tokenize\n",
    "\n",
    "def pre_process_corpus(docs):\n",
    "  norm_docs = []\n",
    "  for doc in tqdm.tqdm(docs):\n",
    "    #case folding\n",
    "    doc = doc.lower()\n",
    "    #remove special characters\\whitespaces\n",
    "    doc = strip_html_tags(doc)\n",
    "    doc = doc.translate(doc.maketrans(\"\\n\\t\\r\", \"   \"))\n",
    "    doc = remove_accented_chars(doc)\n",
    "    doc = contractions.fix(doc)\n",
    "    doc = re.sub(r'[^a-zA-Z0-9\\s]', '', doc, re.I|re.A)\n",
    "    doc = re.sub(' +', ' ', doc)\n",
    "    doc = doc.strip()\n",
    "    #tokenize\n",
    "    doc = word_tokenize(doc)\n",
    "    #filtering\n",
    "    doc = stopwords_removal(doc)\n",
    "    norm_docs.append(doc)\n",
    "  \n",
    "  norm_docs = [\" \".join(word) for word in norm_docs]\n",
    "  return norm_docs"
   ]
  },
  {
   "cell_type": "code",
   "execution_count": 15,
   "metadata": {
    "execution": {
     "iopub.execute_input": "2023-04-14T11:00:02.920077Z",
     "iopub.status.busy": "2023-04-14T11:00:02.91961Z",
     "iopub.status.idle": "2023-04-14T11:00:03.982507Z",
     "shell.execute_reply": "2023-04-14T11:00:03.980846Z",
     "shell.execute_reply.started": "2023-04-14T11:00:02.920049Z"
    },
    "trusted": true
   },
   "outputs": [
    {
     "name": "stderr",
     "output_type": "stream",
     "text": [
      "  0%|          | 0/1967 [00:00<?, ?it/s]\n"
     ]
    },
    {
     "ename": "LookupError",
     "evalue": "\n**********************************************************************\n  Resource \u001b[93mstopwords\u001b[0m not found.\n  Please use the NLTK Downloader to obtain the resource:\n\n  \u001b[31m>>> import nltk\n  >>> nltk.download('stopwords')\n  \u001b[0m\n  For more information see: https://www.nltk.org/data.html\n\n  Attempted to load \u001b[93mcorpora/stopwords\u001b[0m\n\n  Searched in:\n    - '/Users/mimuw2022/nltk_data'\n    - '/Users/mimuw2022/my_new_env/nltk_data'\n    - '/Users/mimuw2022/my_new_env/share/nltk_data'\n    - '/Users/mimuw2022/my_new_env/lib/nltk_data'\n    - '/usr/share/nltk_data'\n    - '/usr/local/share/nltk_data'\n    - '/usr/lib/nltk_data'\n    - '/usr/local/lib/nltk_data'\n**********************************************************************\n",
     "output_type": "error",
     "traceback": [
      "\u001b[0;31m---------------------------------------------------------------------------\u001b[0m",
      "\u001b[0;31mLookupError\u001b[0m                               Traceback (most recent call last)",
      "File \u001b[0;32m~/my_new_env/lib/python3.12/site-packages/nltk/corpus/util.py:84\u001b[0m, in \u001b[0;36mLazyCorpusLoader.__load\u001b[0;34m(self)\u001b[0m\n\u001b[1;32m     83\u001b[0m \u001b[38;5;28;01mtry\u001b[39;00m:\n\u001b[0;32m---> 84\u001b[0m     root \u001b[38;5;241m=\u001b[39m \u001b[43mnltk\u001b[49m\u001b[38;5;241;43m.\u001b[39;49m\u001b[43mdata\u001b[49m\u001b[38;5;241;43m.\u001b[39;49m\u001b[43mfind\u001b[49m\u001b[43m(\u001b[49m\u001b[38;5;124;43mf\u001b[39;49m\u001b[38;5;124;43m\"\u001b[39;49m\u001b[38;5;132;43;01m{\u001b[39;49;00m\u001b[38;5;28;43mself\u001b[39;49m\u001b[38;5;241;43m.\u001b[39;49m\u001b[43msubdir\u001b[49m\u001b[38;5;132;43;01m}\u001b[39;49;00m\u001b[38;5;124;43m/\u001b[39;49m\u001b[38;5;132;43;01m{\u001b[39;49;00m\u001b[43mzip_name\u001b[49m\u001b[38;5;132;43;01m}\u001b[39;49;00m\u001b[38;5;124;43m\"\u001b[39;49m\u001b[43m)\u001b[49m\n\u001b[1;32m     85\u001b[0m \u001b[38;5;28;01mexcept\u001b[39;00m \u001b[38;5;167;01mLookupError\u001b[39;00m:\n",
      "File \u001b[0;32m~/my_new_env/lib/python3.12/site-packages/nltk/data.py:579\u001b[0m, in \u001b[0;36mfind\u001b[0;34m(resource_name, paths)\u001b[0m\n\u001b[1;32m    578\u001b[0m resource_not_found \u001b[38;5;241m=\u001b[39m \u001b[38;5;124mf\u001b[39m\u001b[38;5;124m\"\u001b[39m\u001b[38;5;130;01m\\n\u001b[39;00m\u001b[38;5;132;01m{\u001b[39;00msep\u001b[38;5;132;01m}\u001b[39;00m\u001b[38;5;130;01m\\n\u001b[39;00m\u001b[38;5;132;01m{\u001b[39;00mmsg\u001b[38;5;132;01m}\u001b[39;00m\u001b[38;5;130;01m\\n\u001b[39;00m\u001b[38;5;132;01m{\u001b[39;00msep\u001b[38;5;132;01m}\u001b[39;00m\u001b[38;5;130;01m\\n\u001b[39;00m\u001b[38;5;124m\"\u001b[39m\n\u001b[0;32m--> 579\u001b[0m \u001b[38;5;28;01mraise\u001b[39;00m \u001b[38;5;167;01mLookupError\u001b[39;00m(resource_not_found)\n",
      "\u001b[0;31mLookupError\u001b[0m: \n**********************************************************************\n  Resource \u001b[93mstopwords\u001b[0m not found.\n  Please use the NLTK Downloader to obtain the resource:\n\n  \u001b[31m>>> import nltk\n  >>> nltk.download('stopwords')\n  \u001b[0m\n  For more information see: https://www.nltk.org/data.html\n\n  Attempted to load \u001b[93mcorpora/stopwords.zip/stopwords/\u001b[0m\n\n  Searched in:\n    - '/Users/mimuw2022/nltk_data'\n    - '/Users/mimuw2022/my_new_env/nltk_data'\n    - '/Users/mimuw2022/my_new_env/share/nltk_data'\n    - '/Users/mimuw2022/my_new_env/lib/nltk_data'\n    - '/usr/share/nltk_data'\n    - '/usr/local/share/nltk_data'\n    - '/usr/lib/nltk_data'\n    - '/usr/local/lib/nltk_data'\n**********************************************************************\n",
      "\nDuring handling of the above exception, another exception occurred:\n",
      "\u001b[0;31mLookupError\u001b[0m                               Traceback (most recent call last)",
      "File \u001b[0;32m<timed exec>:1\u001b[0m\n",
      "Cell \u001b[0;32mIn[14], line 25\u001b[0m, in \u001b[0;36mpre_process_corpus\u001b[0;34m(docs)\u001b[0m\n\u001b[1;32m     23\u001b[0m   doc \u001b[38;5;241m=\u001b[39m word_tokenize(doc)\n\u001b[1;32m     24\u001b[0m   \u001b[38;5;66;03m#filtering\u001b[39;00m\n\u001b[0;32m---> 25\u001b[0m   doc \u001b[38;5;241m=\u001b[39m \u001b[43mstopwords_removal\u001b[49m\u001b[43m(\u001b[49m\u001b[43mdoc\u001b[49m\u001b[43m)\u001b[49m\n\u001b[1;32m     26\u001b[0m   norm_docs\u001b[38;5;241m.\u001b[39mappend(doc)\n\u001b[1;32m     28\u001b[0m norm_docs \u001b[38;5;241m=\u001b[39m [\u001b[38;5;124m\"\u001b[39m\u001b[38;5;124m \u001b[39m\u001b[38;5;124m\"\u001b[39m\u001b[38;5;241m.\u001b[39mjoin(word) \u001b[38;5;28;01mfor\u001b[39;00m word \u001b[38;5;129;01min\u001b[39;00m norm_docs]\n",
      "Cell \u001b[0;32mIn[13], line 15\u001b[0m, in \u001b[0;36mstopwords_removal\u001b[0;34m(words)\u001b[0m\n\u001b[1;32m     14\u001b[0m \u001b[38;5;28;01mdef\u001b[39;00m \u001b[38;5;21mstopwords_removal\u001b[39m(words):\n\u001b[0;32m---> 15\u001b[0m     list_stopwords \u001b[38;5;241m=\u001b[39m \u001b[43mnltk\u001b[49m\u001b[38;5;241;43m.\u001b[39;49m\u001b[43mcorpus\u001b[49m\u001b[38;5;241;43m.\u001b[39;49m\u001b[43mstopwords\u001b[49m\u001b[38;5;241;43m.\u001b[39;49m\u001b[43mwords\u001b[49m(\u001b[38;5;124m'\u001b[39m\u001b[38;5;124menglish\u001b[39m\u001b[38;5;124m'\u001b[39m)\n\u001b[1;32m     16\u001b[0m     \u001b[38;5;28;01mreturn\u001b[39;00m [word \u001b[38;5;28;01mfor\u001b[39;00m word \u001b[38;5;129;01min\u001b[39;00m words \u001b[38;5;28;01mif\u001b[39;00m word \u001b[38;5;129;01mnot\u001b[39;00m \u001b[38;5;129;01min\u001b[39;00m list_stopwords]\n",
      "File \u001b[0;32m~/my_new_env/lib/python3.12/site-packages/nltk/corpus/util.py:120\u001b[0m, in \u001b[0;36mLazyCorpusLoader.__getattr__\u001b[0;34m(self, attr)\u001b[0m\n\u001b[1;32m    117\u001b[0m \u001b[38;5;28;01mif\u001b[39;00m attr \u001b[38;5;241m==\u001b[39m \u001b[38;5;124m\"\u001b[39m\u001b[38;5;124m__bases__\u001b[39m\u001b[38;5;124m\"\u001b[39m:\n\u001b[1;32m    118\u001b[0m     \u001b[38;5;28;01mraise\u001b[39;00m \u001b[38;5;167;01mAttributeError\u001b[39;00m(\u001b[38;5;124m\"\u001b[39m\u001b[38;5;124mLazyCorpusLoader object has no attribute \u001b[39m\u001b[38;5;124m'\u001b[39m\u001b[38;5;124m__bases__\u001b[39m\u001b[38;5;124m'\u001b[39m\u001b[38;5;124m\"\u001b[39m)\n\u001b[0;32m--> 120\u001b[0m \u001b[38;5;28;43mself\u001b[39;49m\u001b[38;5;241;43m.\u001b[39;49m\u001b[43m__load\u001b[49m\u001b[43m(\u001b[49m\u001b[43m)\u001b[49m\n\u001b[1;32m    121\u001b[0m \u001b[38;5;66;03m# This looks circular, but its not, since __load() changes our\u001b[39;00m\n\u001b[1;32m    122\u001b[0m \u001b[38;5;66;03m# __class__ to something new:\u001b[39;00m\n\u001b[1;32m    123\u001b[0m \u001b[38;5;28;01mreturn\u001b[39;00m \u001b[38;5;28mgetattr\u001b[39m(\u001b[38;5;28mself\u001b[39m, attr)\n",
      "File \u001b[0;32m~/my_new_env/lib/python3.12/site-packages/nltk/corpus/util.py:86\u001b[0m, in \u001b[0;36mLazyCorpusLoader.__load\u001b[0;34m(self)\u001b[0m\n\u001b[1;32m     84\u001b[0m             root \u001b[38;5;241m=\u001b[39m nltk\u001b[38;5;241m.\u001b[39mdata\u001b[38;5;241m.\u001b[39mfind(\u001b[38;5;124mf\u001b[39m\u001b[38;5;124m\"\u001b[39m\u001b[38;5;132;01m{\u001b[39;00m\u001b[38;5;28mself\u001b[39m\u001b[38;5;241m.\u001b[39msubdir\u001b[38;5;132;01m}\u001b[39;00m\u001b[38;5;124m/\u001b[39m\u001b[38;5;132;01m{\u001b[39;00mzip_name\u001b[38;5;132;01m}\u001b[39;00m\u001b[38;5;124m\"\u001b[39m)\n\u001b[1;32m     85\u001b[0m         \u001b[38;5;28;01mexcept\u001b[39;00m \u001b[38;5;167;01mLookupError\u001b[39;00m:\n\u001b[0;32m---> 86\u001b[0m             \u001b[38;5;28;01mraise\u001b[39;00m e\n\u001b[1;32m     88\u001b[0m \u001b[38;5;66;03m# Load the corpus.\u001b[39;00m\n\u001b[1;32m     89\u001b[0m corpus \u001b[38;5;241m=\u001b[39m \u001b[38;5;28mself\u001b[39m\u001b[38;5;241m.\u001b[39m__reader_cls(root, \u001b[38;5;241m*\u001b[39m\u001b[38;5;28mself\u001b[39m\u001b[38;5;241m.\u001b[39m__args, \u001b[38;5;241m*\u001b[39m\u001b[38;5;241m*\u001b[39m\u001b[38;5;28mself\u001b[39m\u001b[38;5;241m.\u001b[39m__kwargs)\n",
      "File \u001b[0;32m~/my_new_env/lib/python3.12/site-packages/nltk/corpus/util.py:81\u001b[0m, in \u001b[0;36mLazyCorpusLoader.__load\u001b[0;34m(self)\u001b[0m\n\u001b[1;32m     79\u001b[0m \u001b[38;5;28;01melse\u001b[39;00m:\n\u001b[1;32m     80\u001b[0m     \u001b[38;5;28;01mtry\u001b[39;00m:\n\u001b[0;32m---> 81\u001b[0m         root \u001b[38;5;241m=\u001b[39m \u001b[43mnltk\u001b[49m\u001b[38;5;241;43m.\u001b[39;49m\u001b[43mdata\u001b[49m\u001b[38;5;241;43m.\u001b[39;49m\u001b[43mfind\u001b[49m\u001b[43m(\u001b[49m\u001b[38;5;124;43mf\u001b[39;49m\u001b[38;5;124;43m\"\u001b[39;49m\u001b[38;5;132;43;01m{\u001b[39;49;00m\u001b[38;5;28;43mself\u001b[39;49m\u001b[38;5;241;43m.\u001b[39;49m\u001b[43msubdir\u001b[49m\u001b[38;5;132;43;01m}\u001b[39;49;00m\u001b[38;5;124;43m/\u001b[39;49m\u001b[38;5;132;43;01m{\u001b[39;49;00m\u001b[38;5;28;43mself\u001b[39;49m\u001b[38;5;241;43m.\u001b[39;49m\u001b[43m__name\u001b[49m\u001b[38;5;132;43;01m}\u001b[39;49;00m\u001b[38;5;124;43m\"\u001b[39;49m\u001b[43m)\u001b[49m\n\u001b[1;32m     82\u001b[0m     \u001b[38;5;28;01mexcept\u001b[39;00m \u001b[38;5;167;01mLookupError\u001b[39;00m \u001b[38;5;28;01mas\u001b[39;00m e:\n\u001b[1;32m     83\u001b[0m         \u001b[38;5;28;01mtry\u001b[39;00m:\n",
      "File \u001b[0;32m~/my_new_env/lib/python3.12/site-packages/nltk/data.py:579\u001b[0m, in \u001b[0;36mfind\u001b[0;34m(resource_name, paths)\u001b[0m\n\u001b[1;32m    577\u001b[0m sep \u001b[38;5;241m=\u001b[39m \u001b[38;5;124m\"\u001b[39m\u001b[38;5;124m*\u001b[39m\u001b[38;5;124m\"\u001b[39m \u001b[38;5;241m*\u001b[39m \u001b[38;5;241m70\u001b[39m\n\u001b[1;32m    578\u001b[0m resource_not_found \u001b[38;5;241m=\u001b[39m \u001b[38;5;124mf\u001b[39m\u001b[38;5;124m\"\u001b[39m\u001b[38;5;130;01m\\n\u001b[39;00m\u001b[38;5;132;01m{\u001b[39;00msep\u001b[38;5;132;01m}\u001b[39;00m\u001b[38;5;130;01m\\n\u001b[39;00m\u001b[38;5;132;01m{\u001b[39;00mmsg\u001b[38;5;132;01m}\u001b[39;00m\u001b[38;5;130;01m\\n\u001b[39;00m\u001b[38;5;132;01m{\u001b[39;00msep\u001b[38;5;132;01m}\u001b[39;00m\u001b[38;5;130;01m\\n\u001b[39;00m\u001b[38;5;124m\"\u001b[39m\n\u001b[0;32m--> 579\u001b[0m \u001b[38;5;28;01mraise\u001b[39;00m \u001b[38;5;167;01mLookupError\u001b[39;00m(resource_not_found)\n",
      "\u001b[0;31mLookupError\u001b[0m: \n**********************************************************************\n  Resource \u001b[93mstopwords\u001b[0m not found.\n  Please use the NLTK Downloader to obtain the resource:\n\n  \u001b[31m>>> import nltk\n  >>> nltk.download('stopwords')\n  \u001b[0m\n  For more information see: https://www.nltk.org/data.html\n\n  Attempted to load \u001b[93mcorpora/stopwords\u001b[0m\n\n  Searched in:\n    - '/Users/mimuw2022/nltk_data'\n    - '/Users/mimuw2022/my_new_env/nltk_data'\n    - '/Users/mimuw2022/my_new_env/share/nltk_data'\n    - '/Users/mimuw2022/my_new_env/lib/nltk_data'\n    - '/usr/share/nltk_data'\n    - '/usr/local/share/nltk_data'\n    - '/usr/lib/nltk_data'\n    - '/usr/local/lib/nltk_data'\n**********************************************************************\n"
     ]
    }
   ],
   "source": [
    "%%time\n",
    "df.Sentence = pre_process_corpus(df.Sentence)"
   ]
  },
  {
   "cell_type": "code",
   "execution_count": 16,
   "metadata": {
    "execution": {
     "iopub.execute_input": "2023-04-14T11:00:03.987546Z",
     "iopub.status.busy": "2023-04-14T11:00:03.987168Z",
     "iopub.status.idle": "2023-04-14T11:00:03.999022Z",
     "shell.execute_reply": "2023-04-14T11:00:03.997331Z",
     "shell.execute_reply.started": "2023-04-14T11:00:03.987518Z"
    },
    "trusted": true
   },
   "outputs": [
    {
     "data": {
      "text/html": [
       "<div>\n",
       "<style scoped>\n",
       "    .dataframe tbody tr th:only-of-type {\n",
       "        vertical-align: middle;\n",
       "    }\n",
       "\n",
       "    .dataframe tbody tr th {\n",
       "        vertical-align: top;\n",
       "    }\n",
       "\n",
       "    .dataframe thead th {\n",
       "        text-align: right;\n",
       "    }\n",
       "</style>\n",
       "<table border=\"1\" class=\"dataframe\">\n",
       "  <thead>\n",
       "    <tr style=\"text-align: right;\">\n",
       "      <th></th>\n",
       "      <th>Sentence</th>\n",
       "      <th>Sentiment</th>\n",
       "    </tr>\n",
       "  </thead>\n",
       "  <tbody>\n",
       "    <tr>\n",
       "      <th>2</th>\n",
       "      <td>The international electronic industry company ...</td>\n",
       "      <td>negative</td>\n",
       "    </tr>\n",
       "    <tr>\n",
       "      <th>3</th>\n",
       "      <td>With the new production plant the company woul...</td>\n",
       "      <td>positive</td>\n",
       "    </tr>\n",
       "    <tr>\n",
       "      <th>4</th>\n",
       "      <td>According to the company 's updated strategy f...</td>\n",
       "      <td>positive</td>\n",
       "    </tr>\n",
       "    <tr>\n",
       "      <th>5</th>\n",
       "      <td>FINANCING OF ASPOCOMP 'S GROWTH Aspocomp is ag...</td>\n",
       "      <td>positive</td>\n",
       "    </tr>\n",
       "    <tr>\n",
       "      <th>6</th>\n",
       "      <td>For the last quarter of 2010 , Componenta 's n...</td>\n",
       "      <td>positive</td>\n",
       "    </tr>\n",
       "  </tbody>\n",
       "</table>\n",
       "</div>"
      ],
      "text/plain": [
       "                                            Sentence Sentiment\n",
       "2  The international electronic industry company ...  negative\n",
       "3  With the new production plant the company woul...  positive\n",
       "4  According to the company 's updated strategy f...  positive\n",
       "5  FINANCING OF ASPOCOMP 'S GROWTH Aspocomp is ag...  positive\n",
       "6  For the last quarter of 2010 , Componenta 's n...  positive"
      ]
     },
     "execution_count": 16,
     "metadata": {},
     "output_type": "execute_result"
    }
   ],
   "source": [
    "df.head()"
   ]
  },
  {
   "cell_type": "markdown",
   "metadata": {},
   "source": [
    "### Handling imbalance (oversampling)"
   ]
  },
  {
   "cell_type": "code",
   "execution_count": 17,
   "metadata": {
    "execution": {
     "iopub.execute_input": "2023-04-14T11:00:04.000877Z",
     "iopub.status.busy": "2023-04-14T11:00:04.000535Z",
     "iopub.status.idle": "2023-04-14T11:00:04.018667Z",
     "shell.execute_reply": "2023-04-14T11:00:04.017337Z",
     "shell.execute_reply.started": "2023-04-14T11:00:04.000844Z"
    },
    "trusted": true
   },
   "outputs": [
    {
     "name": "stdout",
     "output_type": "stream",
     "text": [
      "majority class before upsample: (1363, 2)\n",
      "minority class before upsample: (604, 2)\n",
      "After upsampling\n",
      "Sentiment\n",
      "positive    1363\n",
      "negative    1363\n",
      "Name: count, dtype: int64\n"
     ]
    }
   ],
   "source": [
    "from sklearn.utils import resample\n",
    "# Separate majority and minority classes in training data for upsampling \n",
    "data_majority = df[df['Sentiment'] == \"positive\"]\n",
    "data_minority = df[df['Sentiment'] == \"negative\"]\n",
    "\n",
    "print(\"majority class before upsample:\",data_majority.shape)\n",
    "print(\"minority class before upsample:\",data_minority.shape)\n",
    "\n",
    "# Upsample minority class\n",
    "data_minority_upsampled = resample(data_minority, \n",
    "                                 replace=True,     # sample with replacement\n",
    "                                 n_samples= data_majority.shape[0]    # to match majority class\n",
    "                                 ) # reproducible results\n",
    " \n",
    "# Combine majority class with upsampled minority class\n",
    "df_balance = pd.concat([data_majority, data_minority_upsampled])\n",
    " \n",
    "# Display new class counts\n",
    "print(\"After upsampling\\n\",df_balance.Sentiment.value_counts(),sep = \"\")"
   ]
  },
  {
   "cell_type": "markdown",
   "metadata": {},
   "source": [
    "### Data splitting"
   ]
  },
  {
   "cell_type": "code",
   "execution_count": 18,
   "metadata": {
    "execution": {
     "iopub.execute_input": "2023-04-14T11:00:04.021114Z",
     "iopub.status.busy": "2023-04-14T11:00:04.020644Z",
     "iopub.status.idle": "2023-04-14T11:00:04.034282Z",
     "shell.execute_reply": "2023-04-14T11:00:04.033021Z",
     "shell.execute_reply.started": "2023-04-14T11:00:04.021076Z"
    },
    "trusted": true
   },
   "outputs": [
    {
     "data": {
      "text/plain": [
       "((1770,), (197,), (1770,), (197,))"
      ]
     },
     "execution_count": 18,
     "metadata": {},
     "output_type": "execute_result"
    }
   ],
   "source": [
    "from sklearn.model_selection import train_test_split\n",
    "X = df.Sentence\n",
    "y = df.Sentiment\n",
    "X_train, X_test, y_train, y_test = train_test_split(df.Sentence, df.Sentiment, test_size=0.1)\n",
    "X_train.shape , X_test.shape, y_train.shape, y_test.shape"
   ]
  },
  {
   "cell_type": "markdown",
   "metadata": {},
   "source": [
    "### Tokenizer"
   ]
  },
  {
   "cell_type": "code",
   "execution_count": 19,
   "metadata": {
    "execution": {
     "iopub.execute_input": "2023-04-14T11:00:04.036378Z",
     "iopub.status.busy": "2023-04-14T11:00:04.035993Z",
     "iopub.status.idle": "2023-04-14T11:00:14.238901Z",
     "shell.execute_reply": "2023-04-14T11:00:14.236951Z",
     "shell.execute_reply.started": "2023-04-14T11:00:04.036339Z"
    },
    "trusted": true
   },
   "outputs": [],
   "source": [
    "from tensorflow.keras.preprocessing.text import Tokenizer\n",
    "\n",
    "token = Tokenizer()\n",
    "token.fit_on_texts(X_train)"
   ]
  },
  {
   "cell_type": "code",
   "execution_count": 20,
   "metadata": {
    "execution": {
     "iopub.execute_input": "2023-04-14T11:00:14.242321Z",
     "iopub.status.busy": "2023-04-14T11:00:14.241291Z",
     "iopub.status.idle": "2023-04-14T11:00:14.249777Z",
     "shell.execute_reply": "2023-04-14T11:00:14.247775Z",
     "shell.execute_reply.started": "2023-04-14T11:00:14.242274Z"
    },
    "trusted": true
   },
   "outputs": [
    {
     "name": "stdout",
     "output_type": "stream",
     "text": [
      "Vocabulary size=5215\n",
      "Number of Documents=1770\n"
     ]
    }
   ],
   "source": [
    "vocab = len(token.index_word) + 1\n",
    "print(\"Vocabulary size={}\".format(len(token.word_index)))\n",
    "print(\"Number of Documents={}\".format(token.document_count))"
   ]
  },
  {
   "cell_type": "markdown",
   "metadata": {},
   "source": [
    "### Sequence"
   ]
  },
  {
   "cell_type": "code",
   "execution_count": 21,
   "metadata": {
    "execution": {
     "iopub.execute_input": "2023-04-14T11:00:14.252439Z",
     "iopub.status.busy": "2023-04-14T11:00:14.251993Z",
     "iopub.status.idle": "2023-04-14T11:00:14.304369Z",
     "shell.execute_reply": "2023-04-14T11:00:14.302359Z",
     "shell.execute_reply.started": "2023-04-14T11:00:14.25239Z"
    },
    "trusted": true
   },
   "outputs": [],
   "source": [
    "X_train = token.texts_to_sequences(X_train)\n",
    "X_test = token.texts_to_sequences(X_test)"
   ]
  },
  {
   "cell_type": "code",
   "execution_count": 22,
   "metadata": {
    "execution": {
     "iopub.execute_input": "2023-04-14T11:00:14.306865Z",
     "iopub.status.busy": "2023-04-14T11:00:14.306499Z",
     "iopub.status.idle": "2023-04-14T11:00:14.636836Z",
     "shell.execute_reply": "2023-04-14T11:00:14.635404Z",
     "shell.execute_reply.started": "2023-04-14T11:00:14.306827Z"
    },
    "trusted": true
   },
   "outputs": [
    {
     "data": {
      "image/png": "[encoded data removed]",
      "text/plain": [
       "<Figure size 1200x600 with 2 Axes>"
      ]
     },
     "metadata": {},
     "output_type": "display_data"
    }
   ],
   "source": [
    "%matplotlib inline\n",
    "\n",
    "train_lens = [len(s) for s in X_train]\n",
    "test_lens = [len(s) for s in X_test]\n",
    "\n",
    "\n",
    "# Plot histograms\n",
    "fig, ax = plt.subplots(1, 2, figsize=(12, 6))\n",
    "ax[0].hist(train_lens, bins=15, color='blue', alpha=0.7)\n",
    "ax[0].set_title('Train Sentence Lengths')\n",
    "ax[1].hist(test_lens, bins=15, color='green', alpha=0.7)\n",
    "ax[1].set_title('Test Sentence Lengths')\n",
    "\n",
    "plt.show()"
   ]
  },
  {
   "cell_type": "code",
   "execution_count": 23,
   "metadata": {
    "execution": {
     "iopub.execute_input": "2023-04-14T11:00:14.638485Z",
     "iopub.status.busy": "2023-04-14T11:00:14.638187Z",
     "iopub.status.idle": "2023-04-14T11:00:14.655403Z",
     "shell.execute_reply": "2023-04-14T11:00:14.653721Z",
     "shell.execute_reply.started": "2023-04-14T11:00:14.638458Z"
    },
    "trusted": true
   },
   "outputs": [
    {
     "data": {
      "text/plain": [
       "((1770, 30), (197, 30))"
      ]
     },
     "execution_count": 23,
     "metadata": {},
     "output_type": "execute_result"
    }
   ],
   "source": [
    "from tensorflow.keras.preprocessing.sequence import pad_sequences\n",
    "\n",
    "#padding\n",
    "MAX_SEQUENCE_LENGTH = 30\n",
    "X_train = pad_sequences(X_train, maxlen=MAX_SEQUENCE_LENGTH, padding=\"post\")\n",
    "X_test = pad_sequences(X_test, maxlen=MAX_SEQUENCE_LENGTH, padding=\"post\")\n",
    "X_train.shape, X_test.shape"
   ]
  },
  {
   "cell_type": "markdown",
   "metadata": {},
   "source": [
    "### Encoding Labels"
   ]
  },
  {
   "cell_type": "code",
   "execution_count": 24,
   "metadata": {
    "execution": {
     "iopub.execute_input": "2023-04-14T11:00:14.657542Z",
     "iopub.status.busy": "2023-04-14T11:00:14.65707Z",
     "iopub.status.idle": "2023-04-14T11:00:14.663904Z",
     "shell.execute_reply": "2023-04-14T11:00:14.662277Z",
     "shell.execute_reply.started": "2023-04-14T11:00:14.657512Z"
    },
    "trusted": true
   },
   "outputs": [],
   "source": [
    "from sklearn.preprocessing import LabelEncoder\n",
    "\n",
    "le = LabelEncoder()\n",
    "num_classes=2 # positive -> 1, negative -> 0"
   ]
  },
  {
   "cell_type": "code",
   "execution_count": 25,
   "metadata": {
    "execution": {
     "iopub.execute_input": "2023-04-14T11:00:14.6659Z",
     "iopub.status.busy": "2023-04-14T11:00:14.665538Z",
     "iopub.status.idle": "2023-04-14T11:00:14.679349Z",
     "shell.execute_reply": "2023-04-14T11:00:14.676323Z",
     "shell.execute_reply.started": "2023-04-14T11:00:14.665867Z"
    },
    "trusted": true
   },
   "outputs": [],
   "source": [
    "y_train = le.fit_transform(y_train)\n",
    "y_test = le.transform(y_test)"
   ]
  },
  {
   "cell_type": "markdown",
   "metadata": {},
   "source": [
    "# CNN"
   ]
  },
  {
   "cell_type": "markdown",
   "metadata": {},
   "source": [
    "### Build model"
   ]
  },
  {
   "cell_type": "markdown",
   "metadata": {},
   "source": [
    "### Train model with hp tuning"
   ]
  },
  {
   "cell_type": "code",
   "execution_count": 27,
   "metadata": {},
   "outputs": [
    {
     "name": "stdout",
     "output_type": "stream",
     "text": [
      "Trial 5 Complete [00h 00m 12s]\n",
      "val_accuracy: 0.8757061958312988\n",
      "\n",
      "Best val_accuracy So Far: 0.887005627155304\n",
      "Total elapsed time: 00h 01m 02s\n",
      "Best Hyperparameters:\n",
      "{'dropout_rate': 0.2}\n",
      "\u001b[1m7/7\u001b[0m \u001b[32m━━━━━━━━━━━━━━━━━━━━\u001b[0m\u001b[37m\u001b[0m \u001b[1m0s\u001b[0m 4ms/step - accuracy: 0.7982 - loss: 0.4513  \n",
      "Test Accuracy: 81.22%\n"
     ]
    }
   ],
   "source": [
    "import tensorflow as tf\n",
    "from keras_tuner import RandomSearch\n",
    "from tensorflow.keras.models import Sequential\n",
    "from tensorflow.keras.layers import Dense, Embedding, Dropout, Conv1D, MaxPooling1D, GlobalMaxPooling1D\n",
    "\n",
    "# Assume that the following variables are defined appropriately:\n",
    "#   vocab: Vocabulary size (e.g., 10000)\n",
    "#   vec_size: Embedding dimension (fixed at 300)\n",
    "#   MAX_SEQUENCE_LENGTH: Maximum length of input sequences\n",
    "\n",
    "vec_size = 300  # Fixed embedding dimension\n",
    "\n",
    "def build_model(hp):\n",
    "    model = Sequential()\n",
    "    \n",
    "    # Embedding layer with fixed parameters\n",
    "    model.add(Embedding(vocab, vec_size, input_length=MAX_SEQUENCE_LENGTH))\n",
    "    \n",
    "    # Convolution and pooling layers with fixed hyperparameters\n",
    "    model.add(Conv1D(64, 8, activation=\"relu\"))\n",
    "    model.add(MaxPooling1D(2))\n",
    "    \n",
    "    # Dropout layer with a tunable dropout rate\n",
    "    model.add(Dropout(rate=hp.Float(\"dropout_rate\", min_value=0.05, max_value=0.25, step=0.05)))  # CHANGED\n",
    "    \n",
    "    model.add(Dense(8, activation=\"relu\"))\n",
    "    # Second dropout layer with the same tunable dropout rate\n",
    "    model.add(Dropout(rate=hp.Float(\"dropout_rate\", min_value=0.05, max_value=0.8, step=0.05)))  # CHANGED\n",
    "    \n",
    "    model.add(Dense(4, activation='relu'))\n",
    "    # Third dropout layer with the same tunable dropout rate\n",
    "    model.add(Dropout(rate=hp.Float(\"dropout_rate\", min_value=0.05, max_value=0.8, step=0.05)))  # CHANGED\n",
    "    \n",
    "    model.add(GlobalMaxPooling1D())\n",
    "    model.add(Dense(1, activation='sigmoid'))\n",
    "    \n",
    "    model.compile(\n",
    "        loss='binary_crossentropy', \n",
    "        optimizer=tf.optimizers.Adam(learning_rate=0.0001), \n",
    "        metrics=['accuracy']\n",
    "    )\n",
    "    return model\n",
    "\n",
    "# Set up the tuner\n",
    "tuner = RandomSearch(\n",
    "    build_model,\n",
    "    objective='val_accuracy',\n",
    "    max_trials=20,\n",
    "    executions_per_trial=1,\n",
    "    directory='my_dir',\n",
    "    project_name='tune_dropout'  # a new project name to avoid conflicts with previous runs\n",
    ")\n",
    "\n",
    "# Early stopping callback (optional)\n",
    "early_stopping = tf.keras.callbacks.EarlyStopping(monitor='val_loss', patience=5)\n",
    "\n",
    "# Assume X_train, y_train, X_test, and y_test are your data splits.\n",
    "tuner.search(X_train, y_train, epochs=20, validation_split=0.1, batch_size=32, callbacks=[early_stopping])\n",
    "\n",
    "# Retrieve the best model and its hyperparameters\n",
    "best_hyperparameters = tuner.get_best_hyperparameters(num_trials=1)[0]\n",
    "best_model = tuner.get_best_models(num_models=1)[0]\n",
    "\n",
    "print(\"Best Hyperparameters:\")\n",
    "print(best_hyperparameters.values)\n",
    "\n",
    "# Evaluate the best model on the test set\n",
    "loss, accuracy = best_model.evaluate(X_test, y_test)\n",
    "print(f'Test Accuracy: {accuracy * 100:.2f}%')\n"
   ]
  },
  {
   "cell_type": "markdown",
   "metadata": {},
   "source": [
    "## Evaluation"
   ]
  },
  {
   "cell_type": "markdown",
   "metadata": {},
   "source": [
    "### Model Accuracy"
   ]
  },
  {
   "cell_type": "code",
   "execution_count": 28,
   "metadata": {
    "execution": {
     "iopub.execute_input": "2023-04-14T11:01:54.665082Z",
     "iopub.status.busy": "2023-04-14T11:01:54.664741Z",
     "iopub.status.idle": "2023-04-14T11:01:55.808409Z",
     "shell.execute_reply": "2023-04-14T11:01:55.806913Z",
     "shell.execute_reply.started": "2023-04-14T11:01:54.665048Z"
    },
    "trusted": true
   },
   "outputs": [
    {
     "name": "stdout",
     "output_type": "stream",
     "text": [
      "\u001b[1m56/56\u001b[0m \u001b[32m━━━━━━━━━━━━━━━━━━━━\u001b[0m\u001b[37m\u001b[0m \u001b[1m0s\u001b[0m 2ms/step - accuracy: 0.9596 - loss: 0.2900\n",
      "\u001b[1m7/7\u001b[0m \u001b[32m━━━━━━━━━━━━━━━━━━━━\u001b[0m\u001b[37m\u001b[0m \u001b[1m0s\u001b[0m 4ms/step - accuracy: 0.7982 - loss: 0.4513 \n",
      "Train: 95.82%, Test: 81.22%\n"
     ]
    }
   ],
   "source": [
    "from keras.models import load_model\n",
    "\n",
    "#saved_model = load_model('./best_model/best_model_cnn1d.h5')\n",
    "train_acc = best_model.evaluate(X_train, y_train, verbose=1)\n",
    "test_acc = best_model.evaluate(X_test, y_test, verbose=1)\n",
    "print('Train: %.2f%%, Test: %.2f%%' % (train_acc[1]*100, test_acc[1]*100))"
   ]
  },
  {
   "cell_type": "markdown",
   "metadata": {},
   "source": [
    "### Identify Overfitting"
   ]
  },
  {
   "cell_type": "code",
   "execution_count": 29,
   "metadata": {},
   "outputs": [
    {
     "name": "stdout",
     "output_type": "stream",
     "text": [
      "Epoch 1/20\n",
      "\u001b[1m399/399\u001b[0m \u001b[32m━━━━━━━━━━━━━━━━━━━━\u001b[0m\u001b[37m\u001b[0m \u001b[1m3s\u001b[0m 6ms/step - accuracy: 0.9459 - loss: 0.2321 - val_accuracy: 0.8870 - val_loss: 0.3413\n",
      "Epoch 2/20\n",
      "\u001b[1m399/399\u001b[0m \u001b[32m━━━━━━━━━━━━━━━━━━━━\u001b[0m\u001b[37m\u001b[0m \u001b[1m2s\u001b[0m 6ms/step - accuracy: 0.9615 - loss: 0.1722 - val_accuracy: 0.8757 - val_loss: 0.3063\n",
      "Epoch 3/20\n",
      "\u001b[1m399/399\u001b[0m \u001b[32m━━━━━━━━━━━━━━━━━━━━\u001b[0m\u001b[37m\u001b[0m \u001b[1m2s\u001b[0m 6ms/step - accuracy: 0.9669 - loss: 0.1194 - val_accuracy: 0.8757 - val_loss: 0.2900\n",
      "Epoch 4/20\n",
      "\u001b[1m399/399\u001b[0m \u001b[32m━━━━━━━━━━━━━━━━━━━━\u001b[0m\u001b[37m\u001b[0m \u001b[1m2s\u001b[0m 6ms/step - accuracy: 0.9752 - loss: 0.0885 - val_accuracy: 0.8644 - val_loss: 0.2917\n",
      "Epoch 5/20\n",
      "\u001b[1m399/399\u001b[0m \u001b[32m━━━━━━━━━━━━━━━━━━━━\u001b[0m\u001b[37m\u001b[0m \u001b[1m2s\u001b[0m 6ms/step - accuracy: 0.9858 - loss: 0.0651 - val_accuracy: 0.8644 - val_loss: 0.2882\n",
      "Epoch 6/20\n",
      "\u001b[1m399/399\u001b[0m \u001b[32m━━━━━━━━━━━━━━━━━━━━\u001b[0m\u001b[37m\u001b[0m \u001b[1m2s\u001b[0m 6ms/step - accuracy: 0.9845 - loss: 0.0637 - val_accuracy: 0.8644 - val_loss: 0.2935\n",
      "Epoch 7/20\n",
      "\u001b[1m399/399\u001b[0m \u001b[32m━━━━━━━━━━━━━━━━━━━━\u001b[0m\u001b[37m\u001b[0m \u001b[1m2s\u001b[0m 6ms/step - accuracy: 0.9934 - loss: 0.0389 - val_accuracy: 0.8701 - val_loss: 0.3006\n",
      "Epoch 8/20\n",
      "\u001b[1m399/399\u001b[0m \u001b[32m━━━━━━━━━━━━━━━━━━━━\u001b[0m\u001b[37m\u001b[0m \u001b[1m2s\u001b[0m 6ms/step - accuracy: 0.9935 - loss: 0.0289 - val_accuracy: 0.8757 - val_loss: 0.2972\n",
      "Epoch 9/20\n",
      "\u001b[1m399/399\u001b[0m \u001b[32m━━━━━━━━━━━━━━━━━━━━\u001b[0m\u001b[37m\u001b[0m \u001b[1m2s\u001b[0m 6ms/step - accuracy: 0.9888 - loss: 0.0318 - val_accuracy: 0.8870 - val_loss: 0.3015\n",
      "Epoch 10/20\n",
      "\u001b[1m399/399\u001b[0m \u001b[32m━━━━━━━━━━━━━━━━━━━━\u001b[0m\u001b[37m\u001b[0m \u001b[1m2s\u001b[0m 6ms/step - accuracy: 0.9917 - loss: 0.0240 - val_accuracy: 0.8814 - val_loss: 0.2981\n"
     ]
    },
    {
     "data": {
      "image/png": "[encoded data removed]",
      "text/plain": [
       "<Figure size 640x480 with 1 Axes>"
      ]
     },
     "metadata": {},
     "output_type": "display_data"
    }
   ],
   "source": [
    "import matplotlib.pyplot as plt\n",
    "\n",
    "# Train your model and obtain the history object\n",
    "history = best_model.fit(X_train, y_train, validation_split=0.1, epochs=20, batch_size=4, callbacks=[early_stopping])\n",
    "\n",
    "# Plot training & validation accuracy values\n",
    "plt.plot(history.history['accuracy'])\n",
    "plt.plot(history.history['val_accuracy'])\n",
    "plt.title('Model Accuracy')\n",
    "plt.ylabel('Accuracy')\n",
    "plt.xlabel('Epoch')\n",
    "plt.legend(['Train', 'Validation'], loc='upper left')\n",
    "plt.show()\n"
   ]
  },
  {
   "cell_type": "code",
   "execution_count": 30,
   "metadata": {
    "execution": {
     "iopub.execute_input": "2023-04-14T11:01:55.996307Z",
     "iopub.status.busy": "2023-04-14T11:01:55.995984Z",
     "iopub.status.idle": "2023-04-14T11:01:56.17166Z",
     "shell.execute_reply": "2023-04-14T11:01:56.170417Z",
     "shell.execute_reply.started": "2023-04-14T11:01:55.996272Z"
    },
    "trusted": true
   },
   "outputs": [
    {
     "data": {
      "image/png": "[encoded data removed]",
      "text/plain": [
       "<Figure size 640x480 with 1 Axes>"
      ]
     },
     "metadata": {},
     "output_type": "display_data"
    }
   ],
   "source": [
    "# summarize history for loss\n",
    "plt.plot(history.history['loss'])\n",
    "plt.plot(history.history['val_loss'])\n",
    "plt.title('model loss')\n",
    "plt.ylabel('loss')\n",
    "plt.xlabel('epoch')\n",
    "plt.legend(['train', 'test'], loc='upper left')\n",
    "plt.show()"
   ]
  },
  {
   "cell_type": "code",
   "execution_count": 47,
   "metadata": {},
   "outputs": [
    {
     "name": "stdout",
     "output_type": "stream",
     "text": [
      "Model architecture visual saved as 'model_architecture.png'.\n"
     ]
    }
   ],
   "source": [
    "import tensorflow as tf\n",
    "from keras.models import load_model\n",
    "from keras.utils import plot_model  # For visualizing the model architecture\n",
    "\n",
    "\n",
    "# ---------------------------------------------------\n",
    "# Visualize the architecture of the model and save to a file.\n",
    "# The diagram will include the shapes of the inputs and outputs of each layer.\n",
    "# ---------------------------------------------------\n",
    "plot_model(best_model, \n",
    "           to_file='model_architecture.png', \n",
    "           show_shapes=True,       # This will show output shape at each layer.\n",
    "           show_layer_names=True)  # This will show each layer’s name.\n",
    "\n",
    "print(\"Model architecture visual saved as 'model_architecture.png'.\")\n",
    "\n"
   ]
  },
  {
   "cell_type": "code",
   "execution_count": 49,
   "metadata": {},
   "outputs": [
    {
     "name": "stdout",
     "output_type": "stream",
     "text": [
      "\u001b[1m56/56\u001b[0m \u001b[32m━━━━━━━━━━━━━━━━━━━━\u001b[0m\u001b[37m\u001b[0m \u001b[1m0s\u001b[0m 3ms/step - accuracy: 0.9959 - loss: 0.0252\n",
      "\u001b[1m7/7\u001b[0m \u001b[32m━━━━━━━━━━━━━━━━━━━━\u001b[0m\u001b[37m\u001b[0m \u001b[1m0s\u001b[0m 4ms/step - accuracy: 0.8320 - loss: 0.4955 \n",
      "\u001b[1m56/56\u001b[0m \u001b[32m━━━━━━━━━━━━━━━━━━━━\u001b[0m\u001b[37m\u001b[0m \u001b[1m0s\u001b[0m 2ms/step\n",
      "\u001b[1m7/7\u001b[0m \u001b[32m━━━━━━━━━━━━━━━━━━━━\u001b[0m\u001b[37m\u001b[0m \u001b[1m0s\u001b[0m 3ms/step \n",
      "\u001b[1m56/56\u001b[0m \u001b[32m━━━━━━━━━━━━━━━━━━━━\u001b[0m\u001b[37m\u001b[0m \u001b[1m0s\u001b[0m 2ms/step\n",
      "\u001b[1m7/7\u001b[0m \u001b[32m━━━━━━━━━━━━━━━━━━━━\u001b[0m\u001b[37m\u001b[0m \u001b[1m0s\u001b[0m 3ms/step \n",
      "Train Loss: 0.0479, Train Accuracy: 98.70%\n",
      "Train Precision: 0.9871, Train Recall: 0.9943, Train F1 Score: 0.9907, Train AUC: 0.9985\n",
      "Test Loss: 0.4333, Test Accuracy: 84.77%\n",
      "Test Precision: 0.8333, Test Recall: 0.9615, Test F1 Score: 0.8929, Test AUC: 0.9210\n"
     ]
    }
   ],
   "source": [
    "import tensorflow as tf\n",
    "from sklearn.metrics import accuracy_score, precision_score, recall_score, f1_score, roc_auc_score\n",
    "\n",
    "# ------------------------\n",
    "# Assume best_model is already defined (via training/tuning) or loaded:\n",
    "# best_model = load_model('./best_model/best_model_cnn1d.h5')\n",
    "# ------------------------\n",
    "\n",
    "# Evaluate on the training data and testing data.\n",
    "train_results = best_model.evaluate(X_train, y_train, verbose=1)\n",
    "test_results  = best_model.evaluate(X_test, y_test, verbose=1)\n",
    "\n",
    "# Collect evaluation metrics into dictionaries for easy comparison.\n",
    "train_metrics = {\n",
    "    'loss': train_results[0],\n",
    "    'accuracy': train_results[1]\n",
    "}\n",
    "\n",
    "test_metrics = {\n",
    "    'loss': test_results[0],\n",
    "    'accuracy': test_results[1]\n",
    "}\n",
    "\n",
    "# Make predictions on the training and testing datasets.\n",
    "y_train_pred = (best_model.predict(X_train) > 0.5).astype(int)\n",
    "y_test_pred = (best_model.predict(X_test) > 0.5).astype(int)\n",
    "\n",
    "# ------------------------\n",
    "# Additional Metrics Calculation\n",
    "# ------------------------\n",
    "\n",
    "# Training metrics\n",
    "train_precision = precision_score(y_train, y_train_pred)\n",
    "train_recall = recall_score(y_train, y_train_pred)\n",
    "train_f1 = f1_score(y_train, y_train_pred)\n",
    "train_auc = roc_auc_score(y_train, best_model.predict(X_train))\n",
    "\n",
    "# Testing metrics\n",
    "test_precision = precision_score(y_test, y_test_pred)\n",
    "test_recall = recall_score(y_test, y_test_pred)\n",
    "test_f1 = f1_score(y_test, y_test_pred)\n",
    "test_auc = roc_auc_score(y_test, best_model.predict(X_test))\n",
    "\n",
    "# ------------------------\n",
    "# Print All Metrics\n",
    "# ------------------------\n",
    "\n",
    "# Training metrics\n",
    "print(f\"Train Loss: {train_metrics['loss']:.4f}, Train Accuracy: {train_metrics['accuracy']*100:.2f}%\")\n",
    "print(f\"Train Precision: {train_precision:.4f}, Train Recall: {train_recall:.4f}, Train F1 Score: {train_f1:.4f}, Train AUC: {train_auc:.4f}\")\n",
    "\n",
    "# Testing metrics\n",
    "print(f\"Test Loss: {test_metrics['loss']:.4f}, Test Accuracy: {test_metrics['accuracy']*100:.2f}%\")\n",
    "print(f\"Test Precision: {test_precision:.4f}, Test Recall: {test_recall:.4f}, Test F1 Score: {test_f1:.4f}, Test AUC: {test_auc:.4f}\")"
   ]
  },
  {
   "cell_type": "markdown",
   "metadata": {},
   "source": [
    "### Confusion Matrix"
   ]
  },
  {
   "cell_type": "code",
   "execution_count": 32,
   "metadata": {
    "execution": {
     "iopub.execute_input": "2023-04-14T11:01:56.173694Z",
     "iopub.status.busy": "2023-04-14T11:01:56.17289Z",
     "iopub.status.idle": "2023-04-14T11:01:56.180317Z",
     "shell.execute_reply": "2023-04-14T11:01:56.178005Z",
     "shell.execute_reply.started": "2023-04-14T11:01:56.173656Z"
    },
    "trusted": true
   },
   "outputs": [],
   "source": [
    "def predictions(x):\n",
    "    prediction_probs = best_model.predict(x)\n",
    "    predictions = [1 if prob > 0.5 else 0 for prob in prediction_probs]\n",
    "    return predictions"
   ]
  },
  {
   "cell_type": "code",
   "execution_count": 33,
   "metadata": {
    "execution": {
     "iopub.execute_input": "2023-04-14T11:01:56.182753Z",
     "iopub.status.busy": "2023-04-14T11:01:56.182391Z",
     "iopub.status.idle": "2023-04-14T11:01:56.967974Z",
     "shell.execute_reply": "2023-04-14T11:01:56.966965Z",
     "shell.execute_reply.started": "2023-04-14T11:01:56.182718Z"
    },
    "trusted": true
   },
   "outputs": [
    {
     "name": "stdout",
     "output_type": "stream",
     "text": [
      "\u001b[1m7/7\u001b[0m \u001b[32m━━━━━━━━━━━━━━━━━━━━\u001b[0m\u001b[37m\u001b[0m \u001b[1m0s\u001b[0m 8ms/step \n",
      "CNN 1D Accuracy: 84.77%\n",
      "\u001b[1m7/7\u001b[0m \u001b[32m━━━━━━━━━━━━━━━━━━━━\u001b[0m\u001b[37m\u001b[0m \u001b[1m0s\u001b[0m 4ms/step \n",
      "CNN 1D Precision: 86.35%\n",
      "\u001b[1m7/7\u001b[0m \u001b[32m━━━━━━━━━━━━━━━━━━━━\u001b[0m\u001b[37m\u001b[0m \u001b[1m0s\u001b[0m 3ms/step \n",
      "CNN 1D Recall: 79.42%\n",
      "\u001b[1m7/7\u001b[0m \u001b[32m━━━━━━━━━━━━━━━━━━━━\u001b[0m\u001b[37m\u001b[0m \u001b[1m0s\u001b[0m 3ms/step \n",
      "CNN 1D f1_score: 81.48%\n",
      "================================================\n",
      "\n",
      "\u001b[1m7/7\u001b[0m \u001b[32m━━━━━━━━━━━━━━━━━━━━\u001b[0m\u001b[37m\u001b[0m \u001b[1m0s\u001b[0m 3ms/step \n",
      "              precision    recall  f1-score   support\n",
      "\n",
      "           0       0.89      0.63      0.74        67\n",
      "           1       0.83      0.96      0.89       130\n",
      "\n",
      "    accuracy                           0.85       197\n",
      "   macro avg       0.86      0.79      0.81       197\n",
      "weighted avg       0.85      0.85      0.84       197\n",
      "\n",
      "\u001b[1m7/7\u001b[0m \u001b[32m━━━━━━━━━━━━━━━━━━━━\u001b[0m\u001b[37m\u001b[0m \u001b[1m0s\u001b[0m 3ms/step \n"
     ]
    },
    {
     "data": {
      "text/html": [
       "<div>\n",
       "<style scoped>\n",
       "    .dataframe tbody tr th:only-of-type {\n",
       "        vertical-align: middle;\n",
       "    }\n",
       "\n",
       "    .dataframe tbody tr th {\n",
       "        vertical-align: top;\n",
       "    }\n",
       "\n",
       "    .dataframe thead th {\n",
       "        text-align: right;\n",
       "    }\n",
       "</style>\n",
       "<table border=\"1\" class=\"dataframe\">\n",
       "  <thead>\n",
       "    <tr style=\"text-align: right;\">\n",
       "      <th></th>\n",
       "      <th>positive</th>\n",
       "      <th>negative</th>\n",
       "    </tr>\n",
       "  </thead>\n",
       "  <tbody>\n",
       "    <tr>\n",
       "      <th>positive</th>\n",
       "      <td>42</td>\n",
       "      <td>25</td>\n",
       "    </tr>\n",
       "    <tr>\n",
       "      <th>negative</th>\n",
       "      <td>5</td>\n",
       "      <td>125</td>\n",
       "    </tr>\n",
       "  </tbody>\n",
       "</table>\n",
       "</div>"
      ],
      "text/plain": [
       "          positive  negative\n",
       "positive        42        25\n",
       "negative         5       125"
      ]
     },
     "execution_count": 33,
     "metadata": {},
     "output_type": "execute_result"
    }
   ],
   "source": [
    "from sklearn.metrics import confusion_matrix, classification_report, roc_auc_score, roc_curve\n",
    "from sklearn.metrics import accuracy_score, precision_score, recall_score, f1_score\n",
    "\n",
    "labels = ['positive', 'negative']\n",
    "print(\"CNN 1D Accuracy: %.2f%%\" % (accuracy_score(y_test, predictions(X_test))*100))\n",
    "print(\"CNN 1D Precision: %.2f%%\" % (precision_score(y_test, predictions(X_test), average=\"macro\")*100))\n",
    "print(\"CNN 1D Recall: %.2f%%\" % (recall_score(y_test, predictions(X_test), average=\"macro\")*100))\n",
    "print(\"CNN 1D f1_score: %.2f%%\" % (f1_score(y_test, predictions(X_test), average=\"macro\")*100))\n",
    "print('================================================\\n') \n",
    "print(classification_report(y_test, predictions(X_test)))\n",
    "pd.DataFrame(confusion_matrix(y_test, predictions(X_test)), index=labels, columns=labels)"
   ]
  },
  {
   "cell_type": "markdown",
   "metadata": {},
   "source": [
    "### ROC AUC"
   ]
  },
  {
   "cell_type": "code",
   "execution_count": 34,
   "metadata": {
    "execution": {
     "iopub.execute_input": "2023-04-14T11:01:56.969919Z",
     "iopub.status.busy": "2023-04-14T11:01:56.969607Z",
     "iopub.status.idle": "2023-04-14T11:01:56.975617Z",
     "shell.execute_reply": "2023-04-14T11:01:56.974066Z",
     "shell.execute_reply.started": "2023-04-14T11:01:56.969888Z"
    },
    "trusted": true
   },
   "outputs": [],
   "source": [
    "def plot_roc_curve(y_test, y_pred):\n",
    "    fpr, tpr, thresholds = roc_curve(y_test, y_pred)\n",
    "    plt.plot(fpr, tpr)\n",
    "    plt.xlabel('False Positive Rate')\n",
    "    plt.ylabel('True Positive Rate')"
   ]
  },
  {
   "cell_type": "code",
   "execution_count": 35,
   "metadata": {
    "execution": {
     "iopub.execute_input": "2023-04-14T11:01:56.98213Z",
     "iopub.status.busy": "2023-04-14T11:01:56.981425Z",
     "iopub.status.idle": "2023-04-14T11:01:57.34821Z",
     "shell.execute_reply": "2023-04-14T11:01:57.346533Z",
     "shell.execute_reply.started": "2023-04-14T11:01:56.982045Z"
    },
    "trusted": true
   },
   "outputs": [
    {
     "name": "stdout",
     "output_type": "stream",
     "text": [
      "\u001b[1m7/7\u001b[0m \u001b[32m━━━━━━━━━━━━━━━━━━━━\u001b[0m\u001b[37m\u001b[0m \u001b[1m0s\u001b[0m 5ms/step \n",
      "\u001b[1m7/7\u001b[0m \u001b[32m━━━━━━━━━━━━━━━━━━━━\u001b[0m\u001b[37m\u001b[0m \u001b[1m0s\u001b[0m 3ms/step \n",
      "model AUC score: 79.42%\n"
     ]
    },
    {
     "data": {
      "image/png": "[encoded data removed]",
      "text/plain": [
       "<Figure size 640x480 with 1 Axes>"
      ]
     },
     "metadata": {},
     "output_type": "display_data"
    }
   ],
   "source": [
    "plot_roc_curve(y_test, predictions(X_test))\n",
    "print(\"model AUC score: %.2f%%\" % (roc_auc_score(y_test, predictions(X_test))*100))"
   ]
  },
  {
   "cell_type": "markdown",
   "metadata": {},
   "source": [
    "# XGBoost"
   ]
  },
  {
   "cell_type": "code",
   "execution_count": 36,
   "metadata": {},
   "outputs": [],
   "source": [
    "# For the pipeline and hyperparameter tuning\n",
    "from sklearn.pipeline import Pipeline\n",
    "from sklearn.feature_extraction.text import CountVectorizer, TfidfTransformer\n",
    "from sklearn.model_selection import RandomizedSearchCV\n",
    "from xgboost import XGBClassifier\n",
    "from scipy.stats import uniform\n",
    "from sklearn.model_selection import StratifiedKFold\n",
    "\n",
    "\n",
    "\n"
   ]
  },
  {
   "cell_type": "code",
   "execution_count": 37,
   "metadata": {},
   "outputs": [],
   "source": [
    "\n",
    "#RandomSearchCV\n",
    "# define the parameters to tune\n",
    "param_dist = {\"learning_rate\": uniform(0, 2),\n",
    "              \"gamma\": uniform(1, 0.000001),\n",
    "              \"max_depth\": range(1,50),\n",
    "              \"n_estimators\": range(1,300),\n",
    "              \"min_child_weight\": range(1,10),\n",
    "              'n_jobs': range(1,5)}\n",
    "#instance of RandomSearchCV\n",
    "rs = RandomizedSearchCV(XGBClassifier(), param_distributions=param_dist, n_iter=50) #25 iterations"
   ]
  },
  {
   "cell_type": "code",
   "execution_count": 38,
   "metadata": {},
   "outputs": [],
   "source": [
    "xgb_model  = Pipeline([\n",
    "    ('count', CountVectorizer()),\n",
    "    ('tfidf', TfidfTransformer()),\n",
    "    ('model', rs)\n",
    "])"
   ]
  },
  {
   "cell_type": "code",
   "execution_count": 39,
   "metadata": {},
   "outputs": [
    {
     "name": "stdout",
     "output_type": "stream",
     "text": [
      "['negative' 'positive']\n"
     ]
    }
   ],
   "source": [
    "\n",
    "X_train_xgb, X_test_xgb, y_train_xgb, y_test_xgb = train_test_split(df.Sentence, df.Sentiment, test_size=0.1)\n",
    "\n",
    "\n",
    "if isinstance(X_train_xgb, list):\n",
    "    X_train_xgb = [\" \".join(doc) if isinstance(doc, list) else str(doc) for doc in X_train_xgb]\n",
    "\n",
    "# Ensure X_train is a flat list of strings\n",
    "if isinstance(X_test_xgb, list):\n",
    "    X_test_xgb = [\" \".join(doc) if isinstance(doc, list) else str(doc) for doc in X_test_xgb]\n",
    "\n",
    "\n",
    "# Convert string labels to numeric\n",
    "label_encoder = LabelEncoder()\n",
    "y_train_xgb = label_encoder.fit_transform(y_train_xgb)\n",
    "y_test_xgb = label_encoder.fit_transform(y_test_xgb)\n",
    "\n",
    "# Check the mapping\n",
    "print(label_encoder.classes_)  # Output: ['negative' 'positive']\n"
   ]
  },
  {
   "cell_type": "code",
   "execution_count": 40,
   "metadata": {},
   "outputs": [
    {
     "data": {
      "text/html": [
       "<style>#sk-container-id-1 {\n",
       "  /* Definition of color scheme common for light and dark mode */\n",
       "  --sklearn-color-text: black;\n",
       "  --sklearn-color-line: gray;\n",
       "  /* Definition of color scheme for unfitted estimators */\n",
       "  --sklearn-color-unfitted-level-0: #fff5e6;\n",
       "  --sklearn-color-unfitted-level-1: #f6e4d2;\n",
       "  --sklearn-color-unfitted-level-2: #ffe0b3;\n",
       "  --sklearn-color-unfitted-level-3: chocolate;\n",
       "  /* Definition of color scheme for fitted estimators */\n",
       "  --sklearn-color-fitted-level-0: #f0f8ff;\n",
       "  --sklearn-color-fitted-level-1: #d4ebff;\n",
       "  --sklearn-color-fitted-level-2: #b3dbfd;\n",
       "  --sklearn-color-fitted-level-3: cornflowerblue;\n",
       "\n",
       "  /* Specific color for light theme */\n",
       "  --sklearn-color-text-on-default-background: var(--sg-text-color, var(--theme-code-foreground, var(--jp-content-font-color1, black)));\n",
       "  --sklearn-color-background: var(--sg-background-color, var(--theme-background, var(--jp-layout-color0, white)));\n",
       "  --sklearn-color-border-box: var(--sg-text-color, var(--theme-code-foreground, var(--jp-content-font-color1, black)));\n",
       "  --sklearn-color-icon: #696969;\n",
       "\n",
       "  @media (prefers-color-scheme: dark) {\n",
       "    /* Redefinition of color scheme for dark theme */\n",
       "    --sklearn-color-text-on-default-background: var(--sg-text-color, var(--theme-code-foreground, var(--jp-content-font-color1, white)));\n",
       "    --sklearn-color-background: var(--sg-background-color, var(--theme-background, var(--jp-layout-color0, #111)));\n",
       "    --sklearn-color-border-box: var(--sg-text-color, var(--theme-code-foreground, var(--jp-content-font-color1, white)));\n",
       "    --sklearn-color-icon: #878787;\n",
       "  }\n",
       "}\n",
       "\n",
       "#sk-container-id-1 {\n",
       "  color: var(--sklearn-color-text);\n",
       "}\n",
       "\n",
       "#sk-container-id-1 pre {\n",
       "  padding: 0;\n",
       "}\n",
       "\n",
       "#sk-container-id-1 input.sk-hidden--visually {\n",
       "  border: 0;\n",
       "  clip: rect(1px 1px 1px 1px);\n",
       "  clip: rect(1px, 1px, 1px, 1px);\n",
       "  height: 1px;\n",
       "  margin: -1px;\n",
       "  overflow: hidden;\n",
       "  padding: 0;\n",
       "  position: absolute;\n",
       "  width: 1px;\n",
       "}\n",
       "\n",
       "#sk-container-id-1 div.sk-dashed-wrapped {\n",
       "  border: 1px dashed var(--sklearn-color-line);\n",
       "  margin: 0 0.4em 0.5em 0.4em;\n",
       "  box-sizing: border-box;\n",
       "  padding-bottom: 0.4em;\n",
       "  background-color: var(--sklearn-color-background);\n",
       "}\n",
       "\n",
       "#sk-container-id-1 div.sk-container {\n",
       "  /* jupyter's `normalize.less` sets `[hidden] { display: none; }`\n",
       "     but bootstrap.min.css set `[hidden] { display: none !important; }`\n",
       "     so we also need the `!important` here to be able to override the\n",
       "     default hidden behavior on the sphinx rendered scikit-learn.org.\n",
       "     See: https://github.com/scikit-learn/scikit-learn/issues/21755 */\n",
       "  display: inline-block !important;\n",
       "  position: relative;\n",
       "}\n",
       "\n",
       "#sk-container-id-1 div.sk-text-repr-fallback {\n",
       "  display: none;\n",
       "}\n",
       "\n",
       "div.sk-parallel-item,\n",
       "div.sk-serial,\n",
       "div.sk-item {\n",
       "  /* draw centered vertical line to link estimators */\n",
       "  background-image: linear-gradient(var(--sklearn-color-text-on-default-background), var(--sklearn-color-text-on-default-background));\n",
       "  background-size: 2px 100%;\n",
       "  background-repeat: no-repeat;\n",
       "  background-position: center center;\n",
       "}\n",
       "\n",
       "/* Parallel-specific style estimator block */\n",
       "\n",
       "#sk-container-id-1 div.sk-parallel-item::after {\n",
       "  content: \"\";\n",
       "  width: 100%;\n",
       "  border-bottom: 2px solid var(--sklearn-color-text-on-default-background);\n",
       "  flex-grow: 1;\n",
       "}\n",
       "\n",
       "#sk-container-id-1 div.sk-parallel {\n",
       "  display: flex;\n",
       "  align-items: stretch;\n",
       "  justify-content: center;\n",
       "  background-color: var(--sklearn-color-background);\n",
       "  position: relative;\n",
       "}\n",
       "\n",
       "#sk-container-id-1 div.sk-parallel-item {\n",
       "  display: flex;\n",
       "  flex-direction: column;\n",
       "}\n",
       "\n",
       "#sk-container-id-1 div.sk-parallel-item:first-child::after {\n",
       "  align-self: flex-end;\n",
       "  width: 50%;\n",
       "}\n",
       "\n",
       "#sk-container-id-1 div.sk-parallel-item:last-child::after {\n",
       "  align-self: flex-start;\n",
       "  width: 50%;\n",
       "}\n",
       "\n",
       "#sk-container-id-1 div.sk-parallel-item:only-child::after {\n",
       "  width: 0;\n",
       "}\n",
       "\n",
       "/* Serial-specific style estimator block */\n",
       "\n",
       "#sk-container-id-1 div.sk-serial {\n",
       "  display: flex;\n",
       "  flex-direction: column;\n",
       "  align-items: center;\n",
       "  background-color: var(--sklearn-color-background);\n",
       "  padding-right: 1em;\n",
       "  padding-left: 1em;\n",
       "}\n",
       "\n",
       "\n",
       "/* Toggleable style: style used for estimator/Pipeline/ColumnTransformer box that is\n",
       "clickable and can be expanded/collapsed.\n",
       "- Pipeline and ColumnTransformer use this feature and define the default style\n",
       "- Estimators will overwrite some part of the style using the `sk-estimator` class\n",
       "*/\n",
       "\n",
       "/* Pipeline and ColumnTransformer style (default) */\n",
       "\n",
       "#sk-container-id-1 div.sk-toggleable {\n",
       "  /* Default theme specific background. It is overwritten whether we have a\n",
       "  specific estimator or a Pipeline/ColumnTransformer */\n",
       "  background-color: var(--sklearn-color-background);\n",
       "}\n",
       "\n",
       "/* Toggleable label */\n",
       "#sk-container-id-1 label.sk-toggleable__label {\n",
       "  cursor: pointer;\n",
       "  display: block;\n",
       "  width: 100%;\n",
       "  margin-bottom: 0;\n",
       "  padding: 0.5em;\n",
       "  box-sizing: border-box;\n",
       "  text-align: center;\n",
       "}\n",
       "\n",
       "#sk-container-id-1 label.sk-toggleable__label-arrow:before {\n",
       "  /* Arrow on the left of the label */\n",
       "  content: \"▸\";\n",
       "  float: left;\n",
       "  margin-right: 0.25em;\n",
       "  color: var(--sklearn-color-icon);\n",
       "}\n",
       "\n",
       "#sk-container-id-1 label.sk-toggleable__label-arrow:hover:before {\n",
       "  color: var(--sklearn-color-text);\n",
       "}\n",
       "\n",
       "/* Toggleable content - dropdown */\n",
       "\n",
       "#sk-container-id-1 div.sk-toggleable__content {\n",
       "  max-height: 0;\n",
       "  max-width: 0;\n",
       "  overflow: hidden;\n",
       "  text-align: left;\n",
       "  /* unfitted */\n",
       "  background-color: var(--sklearn-color-unfitted-level-0);\n",
       "}\n",
       "\n",
       "#sk-container-id-1 div.sk-toggleable__content.fitted {\n",
       "  /* fitted */\n",
       "  background-color: var(--sklearn-color-fitted-level-0);\n",
       "}\n",
       "\n",
       "#sk-container-id-1 div.sk-toggleable__content pre {\n",
       "  margin: 0.2em;\n",
       "  border-radius: 0.25em;\n",
       "  color: var(--sklearn-color-text);\n",
       "  /* unfitted */\n",
       "  background-color: var(--sklearn-color-unfitted-level-0);\n",
       "}\n",
       "\n",
       "#sk-container-id-1 div.sk-toggleable__content.fitted pre {\n",
       "  /* unfitted */\n",
       "  background-color: var(--sklearn-color-fitted-level-0);\n",
       "}\n",
       "\n",
       "#sk-container-id-1 input.sk-toggleable__control:checked~div.sk-toggleable__content {\n",
       "  /* Expand drop-down */\n",
       "  max-height: 200px;\n",
       "  max-width: 100%;\n",
       "  overflow: auto;\n",
       "}\n",
       "\n",
       "#sk-container-id-1 input.sk-toggleable__control:checked~label.sk-toggleable__label-arrow:before {\n",
       "  content: \"▾\";\n",
       "}\n",
       "\n",
       "/* Pipeline/ColumnTransformer-specific style */\n",
       "\n",
       "#sk-container-id-1 div.sk-label input.sk-toggleable__control:checked~label.sk-toggleable__label {\n",
       "  color: var(--sklearn-color-text);\n",
       "  background-color: var(--sklearn-color-unfitted-level-2);\n",
       "}\n",
       "\n",
       "#sk-container-id-1 div.sk-label.fitted input.sk-toggleable__control:checked~label.sk-toggleable__label {\n",
       "  background-color: var(--sklearn-color-fitted-level-2);\n",
       "}\n",
       "\n",
       "/* Estimator-specific style */\n",
       "\n",
       "/* Colorize estimator box */\n",
       "#sk-container-id-1 div.sk-estimator input.sk-toggleable__control:checked~label.sk-toggleable__label {\n",
       "  /* unfitted */\n",
       "  background-color: var(--sklearn-color-unfitted-level-2);\n",
       "}\n",
       "\n",
       "#sk-container-id-1 div.sk-estimator.fitted input.sk-toggleable__control:checked~label.sk-toggleable__label {\n",
       "  /* fitted */\n",
       "  background-color: var(--sklearn-color-fitted-level-2);\n",
       "}\n",
       "\n",
       "#sk-container-id-1 div.sk-label label.sk-toggleable__label,\n",
       "#sk-container-id-1 div.sk-label label {\n",
       "  /* The background is the default theme color */\n",
       "  color: var(--sklearn-color-text-on-default-background);\n",
       "}\n",
       "\n",
       "/* On hover, darken the color of the background */\n",
       "#sk-container-id-1 div.sk-label:hover label.sk-toggleable__label {\n",
       "  color: var(--sklearn-color-text);\n",
       "  background-color: var(--sklearn-color-unfitted-level-2);\n",
       "}\n",
       "\n",
       "/* Label box, darken color on hover, fitted */\n",
       "#sk-container-id-1 div.sk-label.fitted:hover label.sk-toggleable__label.fitted {\n",
       "  color: var(--sklearn-color-text);\n",
       "  background-color: var(--sklearn-color-fitted-level-2);\n",
       "}\n",
       "\n",
       "/* Estimator label */\n",
       "\n",
       "#sk-container-id-1 div.sk-label label {\n",
       "  font-family: monospace;\n",
       "  font-weight: bold;\n",
       "  display: inline-block;\n",
       "  line-height: 1.2em;\n",
       "}\n",
       "\n",
       "#sk-container-id-1 div.sk-label-container {\n",
       "  text-align: center;\n",
       "}\n",
       "\n",
       "/* Estimator-specific */\n",
       "#sk-container-id-1 div.sk-estimator {\n",
       "  font-family: monospace;\n",
       "  border: 1px dotted var(--sklearn-color-border-box);\n",
       "  border-radius: 0.25em;\n",
       "  box-sizing: border-box;\n",
       "  margin-bottom: 0.5em;\n",
       "  /* unfitted */\n",
       "  background-color: var(--sklearn-color-unfitted-level-0);\n",
       "}\n",
       "\n",
       "#sk-container-id-1 div.sk-estimator.fitted {\n",
       "  /* fitted */\n",
       "  background-color: var(--sklearn-color-fitted-level-0);\n",
       "}\n",
       "\n",
       "/* on hover */\n",
       "#sk-container-id-1 div.sk-estimator:hover {\n",
       "  /* unfitted */\n",
       "  background-color: var(--sklearn-color-unfitted-level-2);\n",
       "}\n",
       "\n",
       "#sk-container-id-1 div.sk-estimator.fitted:hover {\n",
       "  /* fitted */\n",
       "  background-color: var(--sklearn-color-fitted-level-2);\n",
       "}\n",
       "\n",
       "/* Specification for estimator info (e.g. \"i\" and \"?\") */\n",
       "\n",
       "/* Common style for \"i\" and \"?\" */\n",
       "\n",
       ".sk-estimator-doc-link,\n",
       "a:link.sk-estimator-doc-link,\n",
       "a:visited.sk-estimator-doc-link {\n",
       "  float: right;\n",
       "  font-size: smaller;\n",
       "  line-height: 1em;\n",
       "  font-family: monospace;\n",
       "  background-color: var(--sklearn-color-background);\n",
       "  border-radius: 1em;\n",
       "  height: 1em;\n",
       "  width: 1em;\n",
       "  text-decoration: none !important;\n",
       "  margin-left: 1ex;\n",
       "  /* unfitted */\n",
       "  border: var(--sklearn-color-unfitted-level-1) 1pt solid;\n",
       "  color: var(--sklearn-color-unfitted-level-1);\n",
       "}\n",
       "\n",
       ".sk-estimator-doc-link.fitted,\n",
       "a:link.sk-estimator-doc-link.fitted,\n",
       "a:visited.sk-estimator-doc-link.fitted {\n",
       "  /* fitted */\n",
       "  border: var(--sklearn-color-fitted-level-1) 1pt solid;\n",
       "  color: var(--sklearn-color-fitted-level-1);\n",
       "}\n",
       "\n",
       "/* On hover */\n",
       "div.sk-estimator:hover .sk-estimator-doc-link:hover,\n",
       ".sk-estimator-doc-link:hover,\n",
       "div.sk-label-container:hover .sk-estimator-doc-link:hover,\n",
       ".sk-estimator-doc-link:hover {\n",
       "  /* unfitted */\n",
       "  background-color: var(--sklearn-color-unfitted-level-3);\n",
       "  color: var(--sklearn-color-background);\n",
       "  text-decoration: none;\n",
       "}\n",
       "\n",
       "div.sk-estimator.fitted:hover .sk-estimator-doc-link.fitted:hover,\n",
       ".sk-estimator-doc-link.fitted:hover,\n",
       "div.sk-label-container:hover .sk-estimator-doc-link.fitted:hover,\n",
       ".sk-estimator-doc-link.fitted:hover {\n",
       "  /* fitted */\n",
       "  background-color: var(--sklearn-color-fitted-level-3);\n",
       "  color: var(--sklearn-color-background);\n",
       "  text-decoration: none;\n",
       "}\n",
       "\n",
       "/* Span, style for the box shown on hovering the info icon */\n",
       ".sk-estimator-doc-link span {\n",
       "  display: none;\n",
       "  z-index: 9999;\n",
       "  position: relative;\n",
       "  font-weight: normal;\n",
       "  right: .2ex;\n",
       "  padding: .5ex;\n",
       "  margin: .5ex;\n",
       "  width: min-content;\n",
       "  min-width: 20ex;\n",
       "  max-width: 50ex;\n",
       "  color: var(--sklearn-color-text);\n",
       "  box-shadow: 2pt 2pt 4pt #999;\n",
       "  /* unfitted */\n",
       "  background: var(--sklearn-color-unfitted-level-0);\n",
       "  border: .5pt solid var(--sklearn-color-unfitted-level-3);\n",
       "}\n",
       "\n",
       ".sk-estimator-doc-link.fitted span {\n",
       "  /* fitted */\n",
       "  background: var(--sklearn-color-fitted-level-0);\n",
       "  border: var(--sklearn-color-fitted-level-3);\n",
       "}\n",
       "\n",
       ".sk-estimator-doc-link:hover span {\n",
       "  display: block;\n",
       "}\n",
       "\n",
       "/* \"?\"-specific style due to the `<a>` HTML tag */\n",
       "\n",
       "#sk-container-id-1 a.estimator_doc_link {\n",
       "  float: right;\n",
       "  font-size: 1rem;\n",
       "  line-height: 1em;\n",
       "  font-family: monospace;\n",
       "  background-color: var(--sklearn-color-background);\n",
       "  border-radius: 1rem;\n",
       "  height: 1rem;\n",
       "  width: 1rem;\n",
       "  text-decoration: none;\n",
       "  /* unfitted */\n",
       "  color: var(--sklearn-color-unfitted-level-1);\n",
       "  border: var(--sklearn-color-unfitted-level-1) 1pt solid;\n",
       "}\n",
       "\n",
       "#sk-container-id-1 a.estimator_doc_link.fitted {\n",
       "  /* fitted */\n",
       "  border: var(--sklearn-color-fitted-level-1) 1pt solid;\n",
       "  color: var(--sklearn-color-fitted-level-1);\n",
       "}\n",
       "\n",
       "/* On hover */\n",
       "#sk-container-id-1 a.estimator_doc_link:hover {\n",
       "  /* unfitted */\n",
       "  background-color: var(--sklearn-color-unfitted-level-3);\n",
       "  color: var(--sklearn-color-background);\n",
       "  text-decoration: none;\n",
       "}\n",
       "\n",
       "#sk-container-id-1 a.estimator_doc_link.fitted:hover {\n",
       "  /* fitted */\n",
       "  background-color: var(--sklearn-color-fitted-level-3);\n",
       "}\n",
       "</style><div id=\"sk-container-id-1\" class=\"sk-top-container\"><div class=\"sk-text-repr-fallback\"><pre>Pipeline(steps=[(&#x27;count&#x27;, CountVectorizer()), (&#x27;tfidf&#x27;, TfidfTransformer()),\n",
       "                (&#x27;model&#x27;,\n",
       "                 RandomizedSearchCV(estimator=XGBClassifier(base_score=None,\n",
       "                                                            booster=None,\n",
       "                                                            callbacks=None,\n",
       "                                                            colsample_bylevel=None,\n",
       "                                                            colsample_bynode=None,\n",
       "                                                            colsample_bytree=None,\n",
       "                                                            device=None,\n",
       "                                                            early_stopping_rounds=None,\n",
       "                                                            enable_categorical=False,\n",
       "                                                            eval_metric=None,\n",
       "                                                            feature_types=None,\n",
       "                                                            gamma=None,\n",
       "                                                            gro...\n",
       "                                                            num_parallel_tree=None,\n",
       "                                                            random_state=None, ...),\n",
       "                                    n_iter=50,\n",
       "                                    param_distributions={&#x27;gamma&#x27;: &lt;scipy.stats._distn_infrastructure.rv_continuous_frozen object at 0x167cc7da0&gt;,\n",
       "                                                         &#x27;learning_rate&#x27;: &lt;scipy.stats._distn_infrastructure.rv_continuous_frozen object at 0x16a06e870&gt;,\n",
       "                                                         &#x27;max_depth&#x27;: range(1, 50),\n",
       "                                                         &#x27;min_child_weight&#x27;: range(1, 10),\n",
       "                                                         &#x27;n_estimators&#x27;: range(1, 300),\n",
       "                                                         &#x27;n_jobs&#x27;: range(1, 5)}))])</pre><b>In a Jupyter environment, please rerun this cell to show the HTML representation or trust the notebook. <br />On GitHub, the HTML representation is unable to render, please try loading this page with nbviewer.org.</b></div><div class=\"sk-container\" hidden><div class=\"sk-item sk-dashed-wrapped\"><div class=\"sk-label-container\"><div class=\"sk-label fitted sk-toggleable\"><input class=\"sk-toggleable__control sk-hidden--visually\" id=\"sk-estimator-id-1\" type=\"checkbox\" ><label for=\"sk-estimator-id-1\" class=\"sk-toggleable__label fitted sk-toggleable__label-arrow fitted\">&nbsp;&nbsp;Pipeline<a class=\"sk-estimator-doc-link fitted\" rel=\"noreferrer\" target=\"_blank\" href=\"https://scikit-learn.org/1.5/modules/generated/sklearn.pipeline.Pipeline.html\">?<span>Documentation for Pipeline</span></a><span class=\"sk-estimator-doc-link fitted\">i<span>Fitted</span></span></label><div class=\"sk-toggleable__content fitted\"><pre>Pipeline(steps=[(&#x27;count&#x27;, CountVectorizer()), (&#x27;tfidf&#x27;, TfidfTransformer()),\n",
       "                (&#x27;model&#x27;,\n",
       "                 RandomizedSearchCV(estimator=XGBClassifier(base_score=None,\n",
       "                                                            booster=None,\n",
       "                                                            callbacks=None,\n",
       "                                                            colsample_bylevel=None,\n",
       "                                                            colsample_bynode=None,\n",
       "                                                            colsample_bytree=None,\n",
       "                                                            device=None,\n",
       "                                                            early_stopping_rounds=None,\n",
       "                                                            enable_categorical=False,\n",
       "                                                            eval_metric=None,\n",
       "                                                            feature_types=None,\n",
       "                                                            gamma=None,\n",
       "                                                            gro...\n",
       "                                                            num_parallel_tree=None,\n",
       "                                                            random_state=None, ...),\n",
       "                                    n_iter=50,\n",
       "                                    param_distributions={&#x27;gamma&#x27;: &lt;scipy.stats._distn_infrastructure.rv_continuous_frozen object at 0x167cc7da0&gt;,\n",
       "                                                         &#x27;learning_rate&#x27;: &lt;scipy.stats._distn_infrastructure.rv_continuous_frozen object at 0x16a06e870&gt;,\n",
       "                                                         &#x27;max_depth&#x27;: range(1, 50),\n",
       "                                                         &#x27;min_child_weight&#x27;: range(1, 10),\n",
       "                                                         &#x27;n_estimators&#x27;: range(1, 300),\n",
       "                                                         &#x27;n_jobs&#x27;: range(1, 5)}))])</pre></div> </div></div><div class=\"sk-serial\"><div class=\"sk-item\"><div class=\"sk-estimator fitted sk-toggleable\"><input class=\"sk-toggleable__control sk-hidden--visually\" id=\"sk-estimator-id-2\" type=\"checkbox\" ><label for=\"sk-estimator-id-2\" class=\"sk-toggleable__label fitted sk-toggleable__label-arrow fitted\">&nbsp;CountVectorizer<a class=\"sk-estimator-doc-link fitted\" rel=\"noreferrer\" target=\"_blank\" href=\"https://scikit-learn.org/1.5/modules/generated/sklearn.feature_extraction.text.CountVectorizer.html\">?<span>Documentation for CountVectorizer</span></a></label><div class=\"sk-toggleable__content fitted\"><pre>CountVectorizer()</pre></div> </div></div><div class=\"sk-item\"><div class=\"sk-estimator fitted sk-toggleable\"><input class=\"sk-toggleable__control sk-hidden--visually\" id=\"sk-estimator-id-3\" type=\"checkbox\" ><label for=\"sk-estimator-id-3\" class=\"sk-toggleable__label fitted sk-toggleable__label-arrow fitted\">&nbsp;TfidfTransformer<a class=\"sk-estimator-doc-link fitted\" rel=\"noreferrer\" target=\"_blank\" href=\"https://scikit-learn.org/1.5/modules/generated/sklearn.feature_extraction.text.TfidfTransformer.html\">?<span>Documentation for TfidfTransformer</span></a></label><div class=\"sk-toggleable__content fitted\"><pre>TfidfTransformer()</pre></div> </div></div><div class=\"sk-item sk-dashed-wrapped\"><div class=\"sk-label-container\"><div class=\"sk-label fitted sk-toggleable\"><input class=\"sk-toggleable__control sk-hidden--visually\" id=\"sk-estimator-id-4\" type=\"checkbox\" ><label for=\"sk-estimator-id-4\" class=\"sk-toggleable__label fitted sk-toggleable__label-arrow fitted\">&nbsp;model: RandomizedSearchCV<a class=\"sk-estimator-doc-link fitted\" rel=\"noreferrer\" target=\"_blank\" href=\"https://scikit-learn.org/1.5/modules/generated/sklearn.model_selection.RandomizedSearchCV.html\">?<span>Documentation for model: RandomizedSearchCV</span></a></label><div class=\"sk-toggleable__content fitted\"><pre>RandomizedSearchCV(estimator=XGBClassifier(base_score=None, booster=None,\n",
       "                                           callbacks=None,\n",
       "                                           colsample_bylevel=None,\n",
       "                                           colsample_bynode=None,\n",
       "                                           colsample_bytree=None, device=None,\n",
       "                                           early_stopping_rounds=None,\n",
       "                                           enable_categorical=False,\n",
       "                                           eval_metric=None, feature_types=None,\n",
       "                                           gamma=None, grow_policy=None,\n",
       "                                           importance_type=None,\n",
       "                                           interaction_constraints=None,\n",
       "                                           learning_rate=None...\n",
       "                                           num_parallel_tree=None,\n",
       "                                           random_state=None, ...),\n",
       "                   n_iter=50,\n",
       "                   param_distributions={&#x27;gamma&#x27;: &lt;scipy.stats._distn_infrastructure.rv_continuous_frozen object at 0x167cc7da0&gt;,\n",
       "                                        &#x27;learning_rate&#x27;: &lt;scipy.stats._distn_infrastructure.rv_continuous_frozen object at 0x16a06e870&gt;,\n",
       "                                        &#x27;max_depth&#x27;: range(1, 50),\n",
       "                                        &#x27;min_child_weight&#x27;: range(1, 10),\n",
       "                                        &#x27;n_estimators&#x27;: range(1, 300),\n",
       "                                        &#x27;n_jobs&#x27;: range(1, 5)})</pre></div> </div></div><div class=\"sk-parallel\"><div class=\"sk-parallel-item\"><div class=\"sk-item\"><div class=\"sk-label-container\"><div class=\"sk-label fitted sk-toggleable\"><input class=\"sk-toggleable__control sk-hidden--visually\" id=\"sk-estimator-id-5\" type=\"checkbox\" ><label for=\"sk-estimator-id-5\" class=\"sk-toggleable__label fitted sk-toggleable__label-arrow fitted\">best_estimator_: XGBClassifier</label><div class=\"sk-toggleable__content fitted\"><pre>XGBClassifier(base_score=None, booster=None, callbacks=None,\n",
       "              colsample_bylevel=None, colsample_bynode=None,\n",
       "              colsample_bytree=None, device=None, early_stopping_rounds=None,\n",
       "              enable_categorical=False, eval_metric=None, feature_types=None,\n",
       "              gamma=np.float64(1.0000009553678488), grow_policy=None,\n",
       "              importance_type=None, interaction_constraints=None,\n",
       "              learning_rate=np.float64(0.018050051792192878), max_bin=None,\n",
       "              max_cat_threshold=None, max_cat_to_onehot=None,\n",
       "              max_delta_step=None, max_depth=31, max_leaves=None,\n",
       "              min_child_weight=1, missing=nan, monotone_constraints=None,\n",
       "              multi_strategy=None, n_estimators=269, n_jobs=4,\n",
       "              num_parallel_tree=None, random_state=None, ...)</pre></div> </div></div><div class=\"sk-serial\"><div class=\"sk-item\"><div class=\"sk-estimator fitted sk-toggleable\"><input class=\"sk-toggleable__control sk-hidden--visually\" id=\"sk-estimator-id-6\" type=\"checkbox\" ><label for=\"sk-estimator-id-6\" class=\"sk-toggleable__label fitted sk-toggleable__label-arrow fitted\">XGBClassifier</label><div class=\"sk-toggleable__content fitted\"><pre>XGBClassifier(base_score=None, booster=None, callbacks=None,\n",
       "              colsample_bylevel=None, colsample_bynode=None,\n",
       "              colsample_bytree=None, device=None, early_stopping_rounds=None,\n",
       "              enable_categorical=False, eval_metric=None, feature_types=None,\n",
       "              gamma=np.float64(1.0000009553678488), grow_policy=None,\n",
       "              importance_type=None, interaction_constraints=None,\n",
       "              learning_rate=np.float64(0.018050051792192878), max_bin=None,\n",
       "              max_cat_threshold=None, max_cat_to_onehot=None,\n",
       "              max_delta_step=None, max_depth=31, max_leaves=None,\n",
       "              min_child_weight=1, missing=nan, monotone_constraints=None,\n",
       "              multi_strategy=None, n_estimators=269, n_jobs=4,\n",
       "              num_parallel_tree=None, random_state=None, ...)</pre></div> </div></div></div></div></div></div></div></div></div></div></div>"
      ],
      "text/plain": [
       "Pipeline(steps=[('count', CountVectorizer()), ('tfidf', TfidfTransformer()),\n",
       "                ('model',\n",
       "                 RandomizedSearchCV(estimator=XGBClassifier(base_score=None,\n",
       "                                                            booster=None,\n",
       "                                                            callbacks=None,\n",
       "                                                            colsample_bylevel=None,\n",
       "                                                            colsample_bynode=None,\n",
       "                                                            colsample_bytree=None,\n",
       "                                                            device=None,\n",
       "                                                            early_stopping_rounds=None,\n",
       "                                                            enable_categorical=False,\n",
       "                                                            eval_metric=None,\n",
       "                                                            feature_types=None,\n",
       "                                                            gamma=None,\n",
       "                                                            gro...\n",
       "                                                            num_parallel_tree=None,\n",
       "                                                            random_state=None, ...),\n",
       "                                    n_iter=50,\n",
       "                                    param_distributions={'gamma': <scipy.stats._distn_infrastructure.rv_continuous_frozen object at 0x167cc7da0>,\n",
       "                                                         'learning_rate': <scipy.stats._distn_infrastructure.rv_continuous_frozen object at 0x16a06e870>,\n",
       "                                                         'max_depth': range(1, 50),\n",
       "                                                         'min_child_weight': range(1, 10),\n",
       "                                                         'n_estimators': range(1, 300),\n",
       "                                                         'n_jobs': range(1, 5)}))])"
      ]
     },
     "execution_count": 40,
     "metadata": {},
     "output_type": "execute_result"
    }
   ],
   "source": [
    "#fit the data\n",
    "xgb_model.fit(X_train_xgb, y_train_xgb)"
   ]
  },
  {
   "cell_type": "code",
   "execution_count": 41,
   "metadata": {},
   "outputs": [],
   "source": [
    "#predict the test data\n",
    "predictions=xgb_model.predict(X_test_xgb)"
   ]
  },
  {
   "cell_type": "code",
   "execution_count": 42,
   "metadata": {},
   "outputs": [
    {
     "name": "stdout",
     "output_type": "stream",
     "text": [
      "Model Accuracy:  86.29 %\n"
     ]
    }
   ],
   "source": [
    "print('Model Accuracy: ', round(accuracy_score(y_test_xgb, predictions)*100,2), '%')"
   ]
  },
  {
   "cell_type": "code",
   "execution_count": 43,
   "metadata": {},
   "outputs": [
    {
     "name": "stdout",
     "output_type": "stream",
     "text": [
      "              precision    recall  f1-score   support\n",
      "\n",
      "           0       0.80      0.67      0.73        55\n",
      "           1       0.88      0.94      0.91       142\n",
      "\n",
      "    accuracy                           0.86       197\n",
      "   macro avg       0.84      0.80      0.82       197\n",
      "weighted avg       0.86      0.86      0.86       197\n",
      "\n"
     ]
    }
   ],
   "source": [
    "print(classification_report(y_test_xgb, predictions))"
   ]
  },
  {
   "cell_type": "code",
   "execution_count": 50,
   "metadata": {},
   "outputs": [
    {
     "name": "stdout",
     "output_type": "stream",
     "text": [
      "\n",
      "Training Metrics:\n",
      "Train Accuracy: 98.70%\n",
      "Train Precision: 0.9838\n",
      "Train Recall: 0.9975\n",
      "Train F1 Score: 0.9906\n",
      "Train AUC: 0.9806\n",
      "\n",
      "Test Metrics:\n",
      "Test Accuracy: 86.29%\n",
      "Test Precision: 0.8808\n",
      "Test Recall: 0.9366\n",
      "Test F1 Score: 0.9078\n",
      "Test AUC: 0.8047\n"
     ]
    }
   ],
   "source": [
    "from sklearn.metrics import accuracy_score, precision_score, recall_score, f1_score, roc_auc_score\n",
    "import numpy as np\n",
    "\n",
    "# ------------------------\n",
    "# Assume the XGBoost model is already trained and defined as `xgb_model`.\n",
    "# ------------------------\n",
    "\n",
    "# Evaluate on training and test data\n",
    "train_results_xgb = xgb_model.predict(X_train_xgb)\n",
    "test_results_xgb = xgb_model.predict(X_test_xgb)\n",
    "\n",
    "# ------------------------\n",
    "# Convert predictions to binary (if they are probabilities)\n",
    "# ------------------------\n",
    "y_train_pred_xgb = (train_results_xgb > 0.5).astype(int)\n",
    "y_test_pred_xgb = (test_results_xgb > 0.5).astype(int)\n",
    "\n",
    "# ------------------------\n",
    "# Calculate Evaluation Metrics for Training Set\n",
    "# ------------------------\n",
    "train_accuracy = accuracy_score(y_train_xgb, y_train_pred_xgb)\n",
    "train_precision = precision_score(y_train_xgb, y_train_pred_xgb)\n",
    "train_recall = recall_score(y_train_xgb, y_train_pred_xgb)\n",
    "train_f1 = f1_score(y_train_xgb, y_train_pred_xgb)\n",
    "train_auc = roc_auc_score(y_train_xgb, train_results_xgb)\n",
    "\n",
    "# ------------------------\n",
    "# Calculate Evaluation Metrics for Test Set\n",
    "# ------------------------\n",
    "test_accuracy = accuracy_score(y_test_xgb, y_test_pred_xgb)\n",
    "test_precision = precision_score(y_test_xgb, y_test_pred_xgb)\n",
    "test_recall = recall_score(y_test_xgb, y_test_pred_xgb)\n",
    "test_f1 = f1_score(y_test_xgb, y_test_pred_xgb)\n",
    "test_auc = roc_auc_score(y_test_xgb, test_results_xgb)\n",
    "\n",
    "# ------------------------\n",
    "# Print Metrics for Training Set\n",
    "# ------------------------\n",
    "print(\"\\nTraining Metrics:\")\n",
    "print(f\"Train Accuracy: {train_accuracy * 100:.2f}%\")\n",
    "print(f\"Train Precision: {train_precision:.4f}\")\n",
    "print(f\"Train Recall: {train_recall:.4f}\")\n",
    "print(f\"Train F1 Score: {train_f1:.4f}\")\n",
    "print(f\"Train AUC: {train_auc:.4f}\")\n",
    "\n",
    "# ------------------------\n",
    "# Print Metrics for Test Set\n",
    "# ------------------------\n",
    "print(\"\\nTest Metrics:\")\n",
    "print(f\"Test Accuracy: {test_accuracy * 100:.2f}%\")\n",
    "print(f\"Test Precision: {test_precision:.4f}\")\n",
    "print(f\"Test Recall: {test_recall:.4f}\")\n",
    "print(f\"Test F1 Score: {test_f1:.4f}\")\n",
    "print(f\"Test AUC: {test_auc:.4f}\")"
   ]
  },
  {
   "cell_type": "markdown",
   "metadata": {},
   "source": [
    "# RANDOM FOREST WITH ROC CURVE"
   ]
  },
  {
   "cell_type": "code",
   "execution_count": 52,
   "metadata": {},
   "outputs": [
    {
     "name": "stdout",
     "output_type": "stream",
     "text": [
      "\n",
      "Training Metrics:\n",
      "Accuracy: 0.7209\n",
      "Precision: 0.7147\n",
      "Recall: 1.0000\n",
      "F1 Score: 0.8336\n",
      "\n",
      "Test Metrics:\n",
      "Accuracy: 0.6726\n",
      "Precision: 0.6709\n",
      "Recall: 1.0000\n",
      "F1 Score: 0.8031\n"
     ]
    },
    {
     "data": {
      "image/png": "[encoded data removed]",
      "text/plain": [
       "<Figure size 1000x500 with 1 Axes>"
      ]
     },
     "metadata": {},
     "output_type": "display_data"
    }
   ],
   "source": [
    "import pandas as pd\n",
    "import numpy as np\n",
    "import matplotlib.pyplot as plt\n",
    "from sklearn.pipeline import Pipeline\n",
    "from sklearn.feature_extraction.text import CountVectorizer, TfidfTransformer\n",
    "from sklearn.ensemble import RandomForestClassifier\n",
    "from sklearn.metrics import roc_curve, auc, accuracy_score, precision_score, recall_score, f1_score\n",
    "from sklearn.preprocessing import LabelEncoder\n",
    "from sklearn.model_selection import train_test_split\n",
    "\n",
    "# ------------------------\n",
    "# Function to plot ROC curve\n",
    "# ------------------------\n",
    "def plot_roc(X_test_rf, y_test_rf, estimator, lns=100):\n",
    "    # Predict probabilities\n",
    "    y_pred_prob = estimator.predict_proba(X_test_rf)[:, 1]\n",
    "\n",
    "    # Compute ROC curve and area under the curve\n",
    "    fpr, tpr, _ = roc_curve(y_test_rf, y_pred_prob)\n",
    "    roc_auc = auc(fpr, tpr)\n",
    "\n",
    "    # Plot ROC curve\n",
    "    plt.figure(figsize=(10, 5))\n",
    "    plt.plot(fpr, tpr, color='darkorange', lw=2, label=f'ROC curve (AUC = {roc_auc:.2f})')\n",
    "    plt.plot([0, 1], [0, 1], color='navy', linestyle='--')\n",
    "    plt.xlim([0.0, 1.0])\n",
    "    plt.ylim([0.0, 1.05])\n",
    "    plt.xlabel('False Positive Rate', fontsize=12)\n",
    "    plt.ylabel('True Positive Rate', fontsize=12)\n",
    "    plt.title('Receiver Operating Characteristic (ROC) Curve', fontsize=16)\n",
    "    plt.legend(loc='lower right')\n",
    "    plt.show()\n",
    "\n",
    "# ------------------------\n",
    "# Define the pipeline\n",
    "# ------------------------\n",
    "model_rf = Pipeline([\n",
    "    ('count', CountVectorizer()),\n",
    "    ('tfidf', TfidfTransformer()),\n",
    "    ('model', RandomForestClassifier(\n",
    "        n_estimators=200,\n",
    "        max_depth=10,\n",
    "        min_samples_split=5,\n",
    "        min_samples_leaf=2,\n",
    "        random_state=42\n",
    "    ))\n",
    "])\n",
    "\n",
    "# ------------------------\n",
    "# Load your dataset (Assume df is your DataFrame)\n",
    "# ------------------------\n",
    "# Assuming df is your DataFrame containing 'Sentence' and 'Sentiment' columns\n",
    "X_rf = df['Sentence'].values\n",
    "y_rf = df['Sentiment'].values\n",
    "\n",
    "# Encode labels\n",
    "label_encoder = LabelEncoder()\n",
    "y_rf = label_encoder.fit_transform(y_rf)\n",
    "\n",
    "# ------------------------\n",
    "# Split the data into train/test sets\n",
    "# ------------------------\n",
    "X_train_rf, X_test_rf, y_train_rf, y_test_rf = train_test_split(X_rf, y_rf, test_size=0.2, random_state=42)\n",
    "\n",
    "# ------------------------\n",
    "# Fit the model\n",
    "# ------------------------\n",
    "model_rf.fit(X_train_rf, y_train_rf)\n",
    "\n",
    "# ------------------------\n",
    "# Evaluate the model on train/test sets\n",
    "# ------------------------\n",
    "y_train_pred_rf = model_rf.predict(X_train_rf)\n",
    "y_test_pred_rf = model_rf.predict(X_test_rf)\n",
    "\n",
    "# ------------------------\n",
    "# Calculate evaluation metrics\n",
    "# ------------------------\n",
    "train_accuracy_rf = accuracy_score(y_train_rf, y_train_pred_rf)\n",
    "train_precision_rf = precision_score(y_train_rf, y_train_pred_rf)\n",
    "train_recall_rf = recall_score(y_train_rf, y_train_pred_rf)\n",
    "train_f1_rf = f1_score(y_train_rf, y_train_pred_rf)\n",
    "\n",
    "test_accuracy_rf = accuracy_score(y_test_rf, y_test_pred_rf)\n",
    "test_precision_rf = precision_score(y_test_rf, y_test_pred_rf)\n",
    "test_recall_rf = recall_score(y_test_rf, y_test_pred_rf)\n",
    "test_f1_rf = f1_score(y_test_rf, y_test_pred_rf)\n",
    "\n",
    "# ------------------------\n",
    "# Print the metrics\n",
    "# ------------------------\n",
    "print(\"\\nTraining Metrics:\")\n",
    "print(f\"Accuracy: {train_accuracy_rf:.4f}\")\n",
    "print(f\"Precision: {train_precision_rf:.4f}\")\n",
    "print(f\"Recall: {train_recall_rf:.4f}\")\n",
    "print(f\"F1 Score: {train_f1_rf:.4f}\")\n",
    "\n",
    "print(\"\\nTest Metrics:\")\n",
    "print(f\"Accuracy: {test_accuracy_rf:.4f}\")\n",
    "print(f\"Precision: {test_precision_rf:.4f}\")\n",
    "print(f\"Recall: {test_recall_rf:.4f}\")\n",
    "print(f\"F1 Score: {test_f1_rf:.4f}\")\n",
    "\n",
    "# ------------------------\n",
    "# Plot the ROC curve\n",
    "# ------------------------\n",
    "plot_roc(X_test_rf, y_test_rf, estimator=model_rf)"
   ]
  },
  {
   "cell_type": "markdown",
   "metadata": {},
   "source": [
    "# final comparison"
   ]
  },
  {
   "cell_type": "code",
   "execution_count": 53,
   "metadata": {},
   "outputs": [
    {
     "name": "stdout",
     "output_type": "stream",
     "text": [
      "\n",
      "Random Forest - Training Metrics:\n",
      "Accuracy: 0.7209, Precision: 0.7147, Recall: 1.0000, F1 Score: 0.8336\n",
      "\n",
      "Random Forest - Test Metrics:\n",
      "Accuracy: 0.6726, Precision: 0.6709, Recall: 1.0000, F1 Score: 0.8031\n",
      "\n",
      "XGBoost - Training Metrics:\n",
      "Accuracy: 0.9870, Precision: 0.9838, Recall: 0.9975, F1 Score: 0.9906, AUC: 0.9806\n",
      "\n",
      "XGBoost - Test Metrics:\n",
      "Accuracy: 0.8629, Precision: 0.8808, Recall: 0.9366, F1 Score: 0.9078, AUC: 0.8047\n",
      "\u001b[1m56/56\u001b[0m \u001b[32m━━━━━━━━━━━━━━━━━━━━\u001b[0m\u001b[37m\u001b[0m \u001b[1m0s\u001b[0m 3ms/step - accuracy: 0.9959 - loss: 0.0252\n",
      "\u001b[1m7/7\u001b[0m \u001b[32m━━━━━━━━━━━━━━━━━━━━\u001b[0m\u001b[37m\u001b[0m \u001b[1m0s\u001b[0m 4ms/step - accuracy: 0.8320 - loss: 0.4955 \n",
      "\u001b[1m56/56\u001b[0m \u001b[32m━━━━━━━━━━━━━━━━━━━━\u001b[0m\u001b[37m\u001b[0m \u001b[1m0s\u001b[0m 2ms/step\n",
      "\u001b[1m7/7\u001b[0m \u001b[32m━━━━━━━━━━━━━━━━━━━━\u001b[0m\u001b[37m\u001b[0m \u001b[1m0s\u001b[0m 5ms/step \n",
      "\u001b[1m56/56\u001b[0m \u001b[32m━━━━━━━━━━━━━━━━━━━━\u001b[0m\u001b[37m\u001b[0m \u001b[1m0s\u001b[0m 3ms/step\n",
      "\u001b[1m7/7\u001b[0m \u001b[32m━━━━━━━━━━━━━━━━━━━━\u001b[0m\u001b[37m\u001b[0m \u001b[1m0s\u001b[0m 4ms/step \n",
      "\n",
      "CNN - Training Metrics:\n",
      "Loss: 0.0479, Accuracy: 98.70%\n",
      "Precision: 0.9871, Recall: 0.9943, F1 Score: 0.9907, AUC: 0.9985\n",
      "\n",
      "CNN - Test Metrics:\n",
      "Loss: 0.4333, Accuracy: 84.77%\n",
      "Precision: 0.8333, Recall: 0.9615, F1 Score: 0.8929, AUC: 0.9210\n",
      "\n",
      "Summary Comparison Table:\n",
      "           Model  Train Accuracy  Test Accuracy\n",
      "0  Random Forest        0.720915       0.672589\n",
      "1        XGBoost        0.987006       0.862944\n",
      "2            CNN        0.987006       0.847716\n"
     ]
    }
   ],
   "source": [
    "import numpy as np\n",
    "import pandas as pd\n",
    "import matplotlib.pyplot as plt\n",
    "import tensorflow as tf\n",
    "from sklearn.metrics import accuracy_score, precision_score, recall_score, f1_score, roc_auc_score\n",
    "\n",
    "# ------------------------\n",
    "# 1. Random Forest Model Evaluation\n",
    "# ------------------------\n",
    "\n",
    "# Predictions for Random Forest\n",
    "y_train_pred_rf = model_rf.predict(X_train_rf)\n",
    "y_test_pred_rf = model_rf.predict(X_test_rf)\n",
    "\n",
    "# Calculate evaluation metrics for Random Forest\n",
    "train_accuracy_rf = accuracy_score(y_train_rf, y_train_pred_rf)\n",
    "train_precision_rf = precision_score(y_train_rf, y_train_pred_rf)\n",
    "train_recall_rf = recall_score(y_train_rf, y_train_pred_rf)\n",
    "train_f1_rf = f1_score(y_train_rf, y_train_pred_rf)\n",
    "\n",
    "test_accuracy_rf = accuracy_score(y_test_rf, y_test_pred_rf)\n",
    "test_precision_rf = precision_score(y_test_rf, y_test_pred_rf)\n",
    "test_recall_rf = recall_score(y_test_rf, y_test_pred_rf)\n",
    "test_f1_rf = f1_score(y_test_rf, y_test_pred_rf)\n",
    "\n",
    "# Print metrics for Random Forest\n",
    "print(\"\\nRandom Forest - Training Metrics:\")\n",
    "print(f\"Accuracy: {train_accuracy_rf:.4f}, Precision: {train_precision_rf:.4f}, Recall: {train_recall_rf:.4f}, F1 Score: {train_f1_rf:.4f}\")\n",
    "print(\"\\nRandom Forest - Test Metrics:\")\n",
    "print(f\"Accuracy: {test_accuracy_rf:.4f}, Precision: {test_precision_rf:.4f}, Recall: {test_recall_rf:.4f}, F1 Score: {test_f1_rf:.4f}\")\n",
    "\n",
    "# ------------------------\n",
    "# 2. XGBoost Model Evaluation\n",
    "# ------------------------\n",
    "\n",
    "# Predictions for XGBoost\n",
    "train_results_xgb = xgb_model.predict(X_train_xgb)\n",
    "test_results_xgb = xgb_model.predict(X_test_xgb)\n",
    "\n",
    "# Convert predictions to binary\n",
    "y_train_pred_xgb = (train_results_xgb > 0.5).astype(int)\n",
    "y_test_pred_xgb = (test_results_xgb > 0.5).astype(int)\n",
    "\n",
    "# Calculate evaluation metrics for XGBoost\n",
    "train_accuracy_xgb = accuracy_score(y_train_xgb, y_train_pred_xgb)\n",
    "train_precision_xgb = precision_score(y_train_xgb, y_train_pred_xgb)\n",
    "train_recall_xgb = recall_score(y_train_xgb, y_train_pred_xgb)\n",
    "train_f1_xgb = f1_score(y_train_xgb, y_train_pred_xgb)\n",
    "train_auc_xgb = roc_auc_score(y_train_xgb, train_results_xgb)\n",
    "\n",
    "test_accuracy_xgb = accuracy_score(y_test_xgb, y_test_pred_xgb)\n",
    "test_precision_xgb = precision_score(y_test_xgb, y_test_pred_xgb)\n",
    "test_recall_xgb = recall_score(y_test_xgb, y_test_pred_xgb)\n",
    "test_f1_xgb = f1_score(y_test_xgb, y_test_pred_xgb)\n",
    "test_auc_xgb = roc_auc_score(y_test_xgb, test_results_xgb)\n",
    "\n",
    "# Print metrics for XGBoost\n",
    "print(\"\\nXGBoost - Training Metrics:\")\n",
    "print(f\"Accuracy: {train_accuracy_xgb:.4f}, Precision: {train_precision_xgb:.4f}, Recall: {train_recall_xgb:.4f}, F1 Score: {train_f1_xgb:.4f}, AUC: {train_auc_xgb:.4f}\")\n",
    "print(\"\\nXGBoost - Test Metrics:\")\n",
    "print(f\"Accuracy: {test_accuracy_xgb:.4f}, Precision: {test_precision_xgb:.4f}, Recall: {test_recall_xgb:.4f}, F1 Score: {test_f1_xgb:.4f}, AUC: {test_auc_xgb:.4f}\")\n",
    "\n",
    "# ------------------------\n",
    "# 3. CNN Model Evaluation\n",
    "# ------------------------\n",
    "\n",
    "# Evaluate CNN model on train/test data\n",
    "train_results_cnn = best_model.evaluate(X_train, y_train, verbose=1)\n",
    "test_results_cnn = best_model.evaluate(X_test, y_test, verbose=1)\n",
    "\n",
    "# Convert predictions to binary\n",
    "y_train_pred_cnn = (best_model.predict(X_train) > 0.5).astype(int)\n",
    "y_test_pred_cnn = (best_model.predict(X_test) > 0.5).astype(int)\n",
    "\n",
    "# Calculate evaluation metrics for CNN\n",
    "train_precision_cnn = precision_score(y_train, y_train_pred_cnn)\n",
    "train_recall_cnn = recall_score(y_train, y_train_pred_cnn)\n",
    "train_f1_cnn = f1_score(y_train, y_train_pred_cnn)\n",
    "train_auc_cnn = roc_auc_score(y_train, best_model.predict(X_train))\n",
    "\n",
    "test_precision_cnn = precision_score(y_test, y_test_pred_cnn)\n",
    "test_recall_cnn = recall_score(y_test, y_test_pred_cnn)\n",
    "test_f1_cnn = f1_score(y_test, y_test_pred_cnn)\n",
    "test_auc_cnn = roc_auc_score(y_test, best_model.predict(X_test))\n",
    "\n",
    "# Print metrics for CNN\n",
    "print(\"\\nCNN - Training Metrics:\")\n",
    "print(f\"Loss: {train_results_cnn[0]:.4f}, Accuracy: {train_results_cnn[1] * 100:.2f}%\")\n",
    "print(f\"Precision: {train_precision_cnn:.4f}, Recall: {train_recall_cnn:.4f}, F1 Score: {train_f1_cnn:.4f}, AUC: {train_auc_cnn:.4f}\")\n",
    "\n",
    "print(\"\\nCNN - Test Metrics:\")\n",
    "print(f\"Loss: {test_results_cnn[0]:.4f}, Accuracy: {test_results_cnn[1] * 100:.2f}%\")\n",
    "print(f\"Precision: {test_precision_cnn:.4f}, Recall: {test_recall_cnn:.4f}, F1 Score: {test_f1_cnn:.4f}, AUC: {test_auc_cnn:.4f}\")\n",
    "\n",
    "# ------------------------\n",
    "# Summary Comparison Table\n",
    "# ------------------------\n",
    "models = [\"Random Forest\", \"XGBoost\", \"CNN\"]\n",
    "train_accuracies = [train_accuracy_rf, train_accuracy_xgb, train_results_cnn[1]]\n",
    "test_accuracies = [test_accuracy_rf, test_accuracy_xgb, test_results_cnn[1]]\n",
    "\n",
    "summary_df = pd.DataFrame({\n",
    "    \"Model\": models,\n",
    "    \"Train Accuracy\": train_accuracies,\n",
    "    \"Test Accuracy\": test_accuracies\n",
    "})\n",
    "\n",
    "print(\"\\nSummary Comparison Table:\")\n",
    "print(summary_df)"
   ]
  },
  {
   "cell_type": "code",
   "execution_count": 54,
   "metadata": {},
   "outputs": [
    {
     "name": "stdout",
     "output_type": "stream",
     "text": [
      "\n",
      "Random Forest - Training Metrics:\n",
      "Accuracy:  0.7209\n",
      "Precision: 0.7147, Recall: 1.0000, F1: 0.8336\n",
      "\n",
      "Random Forest - Test Metrics:\n",
      "Accuracy:  0.6726\n",
      "Precision: 0.6709, Recall: 1.0000, F1: 0.8031\n",
      "\n",
      "XGBoost - Training Metrics:\n",
      "Accuracy:  0.9870\n",
      "Precision: 0.9838, Recall: 0.9975, F1: 0.9906, AUC: 0.9806\n",
      "\n",
      "XGBoost - Test Metrics:\n",
      "Accuracy:  0.8629\n",
      "Precision: 0.8808, Recall: 0.9366, F1: 0.9078, AUC: 0.8047\n",
      "\u001b[1m56/56\u001b[0m \u001b[32m━━━━━━━━━━━━━━━━━━━━\u001b[0m\u001b[37m\u001b[0m \u001b[1m0s\u001b[0m 2ms/step - accuracy: 0.9959 - loss: 0.0252\n",
      "\u001b[1m7/7\u001b[0m \u001b[32m━━━━━━━━━━━━━━━━━━━━\u001b[0m\u001b[37m\u001b[0m \u001b[1m0s\u001b[0m 4ms/step - accuracy: 0.8320 - loss: 0.4955 \n",
      "\u001b[1m56/56\u001b[0m \u001b[32m━━━━━━━━━━━━━━━━━━━━\u001b[0m\u001b[37m\u001b[0m \u001b[1m0s\u001b[0m 2ms/step\n",
      "\u001b[1m7/7\u001b[0m \u001b[32m━━━━━━━━━━━━━━━━━━━━\u001b[0m\u001b[37m\u001b[0m \u001b[1m0s\u001b[0m 4ms/step \n",
      "\u001b[1m56/56\u001b[0m \u001b[32m━━━━━━━━━━━━━━━━━━━━\u001b[0m\u001b[37m\u001b[0m \u001b[1m0s\u001b[0m 3ms/step\n",
      "\u001b[1m7/7\u001b[0m \u001b[32m━━━━━━━━━━━━━━━━━━━━\u001b[0m\u001b[37m\u001b[0m \u001b[1m0s\u001b[0m 5ms/step \n",
      "\n",
      "CNN - Training Metrics:\n",
      "Loss: 0.0479, Accuracy: 98.70%\n",
      "Precision: 0.9871, Recall: 0.9943, F1: 0.9907, AUC: 0.9985\n",
      "\n",
      "CNN - Test Metrics:\n",
      "Loss: 0.4333, Accuracy: 84.77%\n",
      "Precision: 0.8333, Recall: 0.9615, F1: 0.8929, AUC: 0.9210\n",
      "\n",
      "Summary Comparison Table:\n",
      "           Model  Train Accuracy  Test Accuracy\n",
      "0  Random Forest        0.720915       0.672589\n",
      "1        XGBoost        0.987006       0.862944\n",
      "2            CNN        0.987006       0.847716\n"
     ]
    },
    {
     "data": {
      "image/png": "[encoded data removed]",
      "text/plain": [
       "<Figure size 800x600 with 1 Axes>"
      ]
     },
     "metadata": {},
     "output_type": "display_data"
    },
    {
     "data": {
      "image/png": "[encoded data removed]",
      "text/plain": [
       "<Figure size 800x600 with 1 Axes>"
      ]
     },
     "metadata": {},
     "output_type": "display_data"
    },
    {
     "data": {
      "image/png": "[encoded data removed]",
      "text/plain": [
       "<Figure size 800x600 with 1 Axes>"
      ]
     },
     "metadata": {},
     "output_type": "display_data"
    },
    {
     "data": {
      "image/png": "[encoded data removed]",
      "text/plain": [
       "<Figure size 800x600 with 1 Axes>"
      ]
     },
     "metadata": {},
     "output_type": "display_data"
    },
    {
     "data": {
      "image/png": "[encoded data removed]",
      "text/plain": [
       "<Figure size 500x400 with 1 Axes>"
      ]
     },
     "metadata": {},
     "output_type": "display_data"
    },
    {
     "data": {
      "image/png": "[encoded data removed]",
      "text/plain": [
       "<Figure size 500x400 with 1 Axes>"
      ]
     },
     "metadata": {},
     "output_type": "display_data"
    },
    {
     "data": {
      "image/png": "[encoded data removed]",
      "text/plain": [
       "<Figure size 500x400 with 1 Axes>"
      ]
     },
     "metadata": {},
     "output_type": "display_data"
    },
    {
     "name": "stdout",
     "output_type": "stream",
     "text": [
      "\u001b[1m7/7\u001b[0m \u001b[32m━━━━━━━━━━━━━━━━━━━━\u001b[0m\u001b[37m\u001b[0m \u001b[1m0s\u001b[0m 3ms/step \n"
     ]
    },
    {
     "data": {
      "image/png": "[encoded data removed]",
      "text/plain": [
       "<Figure size 800x600 with 1 Axes>"
      ]
     },
     "metadata": {},
     "output_type": "display_data"
    }
   ],
   "source": [
    "import numpy as np\n",
    "import pandas as pd\n",
    "import matplotlib.pyplot as plt\n",
    "import seaborn as sns\n",
    "import tensorflow as tf\n",
    "from sklearn.metrics import (accuracy_score, precision_score, recall_score, \n",
    "                             f1_score, roc_auc_score, confusion_matrix, roc_curve)\n",
    "\n",
    "# ------------------------\n",
    "# 1. Random Forest Model Evaluation\n",
    "# ------------------------\n",
    "\n",
    "# Predictions for Random Forest\n",
    "y_train_pred_rf = model_rf.predict(X_train_rf)\n",
    "y_test_pred_rf = model_rf.predict(X_test_rf)\n",
    "\n",
    "# Calculate evaluation metrics for Random Forest (Train)\n",
    "train_accuracy_rf = accuracy_score(y_train_rf, y_train_pred_rf)\n",
    "train_precision_rf = precision_score(y_train_rf, y_train_pred_rf)\n",
    "train_recall_rf = recall_score(y_train_rf, y_train_pred_rf)\n",
    "train_f1_rf = f1_score(y_train_rf, y_train_pred_rf)\n",
    "# If you want AUC for RF:\n",
    "# train_proba_rf = model_rf.predict_proba(X_train_rf)[:, 1]\n",
    "# train_auc_rf = roc_auc_score(y_train_rf, train_proba_rf)\n",
    "\n",
    "# Calculate evaluation metrics for Random Forest (Test)\n",
    "test_accuracy_rf = accuracy_score(y_test_rf, y_test_pred_rf)\n",
    "test_precision_rf = precision_score(y_test_rf, y_test_pred_rf)\n",
    "test_recall_rf = recall_score(y_test_rf, y_test_pred_rf)\n",
    "test_f1_rf = f1_score(y_test_rf, y_test_pred_rf)\n",
    "# test_proba_rf = model_rf.predict_proba(X_test_rf)[:, 1]\n",
    "# test_auc_rf = roc_auc_score(y_test_rf, test_proba_rf)\n",
    "\n",
    "# Print metrics for Random Forest\n",
    "print(\"\\nRandom Forest - Training Metrics:\")\n",
    "print(f\"Accuracy:  {train_accuracy_rf:.4f}\")\n",
    "print(f\"Precision: {train_precision_rf:.4f}, Recall: {train_recall_rf:.4f}, F1: {train_f1_rf:.4f}\")\n",
    "# print(f\"AUC:       {train_auc_rf:.4f}\")\n",
    "\n",
    "print(\"\\nRandom Forest - Test Metrics:\")\n",
    "print(f\"Accuracy:  {test_accuracy_rf:.4f}\")\n",
    "print(f\"Precision: {test_precision_rf:.4f}, Recall: {test_recall_rf:.4f}, F1: {test_f1_rf:.4f}\")\n",
    "# print(f\"AUC:       {test_auc_rf:.4f}\")\n",
    "\n",
    "# ------------------------\n",
    "# 2. XGBoost Model Evaluation\n",
    "# ------------------------\n",
    "\n",
    "# Predictions for XGBoost (probabilities)\n",
    "train_results_xgb = xgb_model.predict(X_train_xgb)\n",
    "test_results_xgb = xgb_model.predict(X_test_xgb)\n",
    "\n",
    "# Convert predictions to binary\n",
    "y_train_pred_xgb = (train_results_xgb > 0.5).astype(int)\n",
    "y_test_pred_xgb = (test_results_xgb > 0.5).astype(int)\n",
    "\n",
    "# Calculate evaluation metrics for XGBoost (Train)\n",
    "train_accuracy_xgb = accuracy_score(y_train_xgb, y_train_pred_xgb)\n",
    "train_precision_xgb = precision_score(y_train_xgb, y_train_pred_xgb)\n",
    "train_recall_xgb = recall_score(y_train_xgb, y_train_pred_xgb)\n",
    "train_f1_xgb = f1_score(y_train_xgb, y_train_pred_xgb)\n",
    "train_auc_xgb = roc_auc_score(y_train_xgb, train_results_xgb)\n",
    "\n",
    "# Calculate evaluation metrics for XGBoost (Test)\n",
    "test_accuracy_xgb = accuracy_score(y_test_xgb, y_test_pred_xgb)\n",
    "test_precision_xgb = precision_score(y_test_xgb, y_test_pred_xgb)\n",
    "test_recall_xgb = recall_score(y_test_xgb, y_test_pred_xgb)\n",
    "test_f1_xgb = f1_score(y_test_xgb, y_test_pred_xgb)\n",
    "test_auc_xgb = roc_auc_score(y_test_xgb, test_results_xgb)\n",
    "\n",
    "# Print metrics for XGBoost\n",
    "print(\"\\nXGBoost - Training Metrics:\")\n",
    "print(f\"Accuracy:  {train_accuracy_xgb:.4f}\")\n",
    "print(f\"Precision: {train_precision_xgb:.4f}, Recall: {train_recall_xgb:.4f}, F1: {train_f1_xgb:.4f}, AUC: {train_auc_xgb:.4f}\")\n",
    "\n",
    "print(\"\\nXGBoost - Test Metrics:\")\n",
    "print(f\"Accuracy:  {test_accuracy_xgb:.4f}\")\n",
    "print(f\"Precision: {test_precision_xgb:.4f}, Recall: {test_recall_xgb:.4f}, F1: {test_f1_xgb:.4f}, AUC: {test_auc_xgb:.4f}\")\n",
    "\n",
    "# ------------------------\n",
    "# 3. CNN Model Evaluation\n",
    "# ------------------------\n",
    "\n",
    "# Evaluate CNN model on train/test data\n",
    "train_results_cnn = best_model.evaluate(X_train, y_train, verbose=1)\n",
    "test_results_cnn = best_model.evaluate(X_test, y_test, verbose=1)\n",
    "\n",
    "# Convert predictions to binary\n",
    "y_train_pred_cnn = (best_model.predict(X_train) > 0.5).astype(int)\n",
    "y_test_pred_cnn = (best_model.predict(X_test) > 0.5).astype(int)\n",
    "\n",
    "# Calculate evaluation metrics for CNN (Train)\n",
    "train_precision_cnn = precision_score(y_train, y_train_pred_cnn)\n",
    "train_recall_cnn = recall_score(y_train, y_train_pred_cnn)\n",
    "train_f1_cnn = f1_score(y_train, y_train_pred_cnn)\n",
    "train_auc_cnn = roc_auc_score(y_train, best_model.predict(X_train))\n",
    "\n",
    "# Calculate evaluation metrics for CNN (Test)\n",
    "test_precision_cnn = precision_score(y_test, y_test_pred_cnn)\n",
    "test_recall_cnn = recall_score(y_test, y_test_pred_cnn)\n",
    "test_f1_cnn = f1_score(y_test, y_test_pred_cnn)\n",
    "test_auc_cnn = roc_auc_score(y_test, best_model.predict(X_test))\n",
    "\n",
    "# Print metrics for CNN\n",
    "print(\"\\nCNN - Training Metrics:\")\n",
    "print(f\"Loss: {train_results_cnn[0]:.4f}, Accuracy: {train_results_cnn[1]*100:.2f}%\")\n",
    "print(f\"Precision: {train_precision_cnn:.4f}, Recall: {train_recall_cnn:.4f}, F1: {train_f1_cnn:.4f}, AUC: {train_auc_cnn:.4f}\")\n",
    "\n",
    "print(\"\\nCNN - Test Metrics:\")\n",
    "print(f\"Loss: {test_results_cnn[0]:.4f}, Accuracy: {test_results_cnn[1]*100:.2f}%\")\n",
    "print(f\"Precision: {test_precision_cnn:.4f}, Recall: {test_recall_cnn:.4f}, F1: {test_f1_cnn:.4f}, AUC: {test_auc_cnn:.4f}\")\n",
    "\n",
    "# ------------------------\n",
    "# 4. Summary Comparison Table\n",
    "# ------------------------\n",
    "models = [\"Random Forest\", \"XGBoost\", \"CNN\"]\n",
    "train_accuracies = [train_accuracy_rf, train_accuracy_xgb, train_results_cnn[1]]\n",
    "test_accuracies = [test_accuracy_rf, test_accuracy_xgb, test_results_cnn[1]]\n",
    "\n",
    "summary_df = pd.DataFrame({\n",
    "    \"Model\": models,\n",
    "    \"Train Accuracy\": train_accuracies,\n",
    "    \"Test Accuracy\": test_accuracies\n",
    "})\n",
    "\n",
    "print(\"\\nSummary Comparison Table:\")\n",
    "print(summary_df)\n",
    "\n",
    "##############################################################################\n",
    "# OPTIONAL: Visual Comparison (Grouped Bar Charts, Confusion Matrices, ROC)\n",
    "##############################################################################\n",
    "\n",
    "# ---------- 4.1 Grouped Bar Charts for Metrics (Train vs Test)  ----------\n",
    "def plot_comparison_bar(models, train_scores, test_scores, metric_name):\n",
    "    \"\"\"\n",
    "    Creates a side-by-side bar chart comparing training and test scores for different models.\n",
    "    \"\"\"\n",
    "    x = np.arange(len(models))\n",
    "    width = 0.35\n",
    "    \n",
    "    plt.figure(figsize=(8, 6))\n",
    "    plt.bar(x - width/2, train_scores, width, label='Train', color='#1f77b4')\n",
    "    plt.bar(x + width/2, test_scores, width, label='Test', color='#ff7f0e')\n",
    "    \n",
    "    plt.xticks(x, models)\n",
    "    plt.ylabel(metric_name)\n",
    "    plt.title(f'{metric_name} Comparison')\n",
    "    plt.ylim(0, 1.1)\n",
    "    plt.legend()\n",
    "    plt.tight_layout()\n",
    "    plt.show()\n",
    "\n",
    "# Plot bar charts for Accuracy, Precision, Recall, and F1 (AUC only if all models have it)\n",
    "plot_comparison_bar(models,\n",
    "                    [train_accuracy_rf, train_accuracy_xgb, train_results_cnn[1]],\n",
    "                    [test_accuracy_rf, test_accuracy_xgb, test_results_cnn[1]],\n",
    "                    \"Accuracy\")\n",
    "\n",
    "plot_comparison_bar(models,\n",
    "                    [train_precision_rf, train_precision_xgb, train_precision_cnn],\n",
    "                    [test_precision_rf, test_precision_xgb, test_precision_cnn],\n",
    "                    \"Precision\")\n",
    "\n",
    "plot_comparison_bar(models,\n",
    "                    [train_recall_rf, train_recall_xgb, train_recall_cnn],\n",
    "                    [test_recall_rf, test_recall_xgb, test_recall_cnn],\n",
    "                    \"Recall\")\n",
    "\n",
    "plot_comparison_bar(models,\n",
    "                    [train_f1_rf, train_f1_xgb, train_f1_cnn],\n",
    "                    [test_f1_rf, test_f1_xgb, test_f1_cnn],\n",
    "                    \"F1 Score\")\n",
    "\n",
    "# Uncomment below if you have RF AUC values as well\n",
    "# train_auc_rf = ...\n",
    "# test_auc_rf = ...\n",
    "# plot_comparison_bar(models,\n",
    "#                     [train_auc_rf, train_auc_xgb, train_auc_cnn],\n",
    "#                     [test_auc_rf, test_auc_xgb, test_auc_cnn],\n",
    "#                     \"AUC\")\n",
    "\n",
    "\n",
    "# ---------- 4.2 Confusion Matrices ----------\n",
    "def plot_confusion_matrix(y_true, y_pred, model_name):\n",
    "    \"\"\"\n",
    "    Plots a confusion matrix using Seaborn's heatmap.\n",
    "    \"\"\"\n",
    "    cm = confusion_matrix(y_true, y_pred)\n",
    "    plt.figure(figsize=(5, 4))\n",
    "    sns.heatmap(cm, annot=True, fmt='d', cmap='Blues', cbar=False)\n",
    "    plt.title(f'{model_name} - Confusion Matrix')\n",
    "    plt.xlabel('Predicted Label')\n",
    "    plt.ylabel('True Label')\n",
    "    plt.show()\n",
    "\n",
    "# Example usage for test sets:\n",
    "plot_confusion_matrix(y_test_rf, y_test_pred_rf, \"Random Forest (Test)\")\n",
    "plot_confusion_matrix(y_test_xgb, y_test_pred_xgb, \"XGBoost (Test)\")\n",
    "plot_confusion_matrix(y_test, y_test_pred_cnn, \"CNN (Test)\")\n",
    "\n",
    "\n",
    "# ---------- 4.3 ROC Curves ----------\n",
    "def plot_roc_curve(y_true, y_proba, label):\n",
    "    \"\"\"\n",
    "    Plots the ROC curve for a single model.\n",
    "    \"\"\"\n",
    "    fpr, tpr, _ = roc_curve(y_true, y_proba)\n",
    "    auc_score = roc_auc_score(y_true, y_proba)\n",
    "    plt.plot(fpr, tpr, label=f'{label} (AUC = {auc_score:.3f})')\n",
    "\n",
    "plt.figure(figsize=(8, 6))\n",
    "\n",
    "# Random Forest (if you have probabilities)\n",
    "# plot_roc_curve(y_test_rf, test_proba_rf, 'Random Forest')\n",
    "\n",
    "# XGBoost\n",
    "plot_roc_curve(y_test_xgb, test_results_xgb, 'XGBoost')\n",
    "\n",
    "# CNN\n",
    "cnn_proba = best_model.predict(X_test).ravel()\n",
    "plot_roc_curve(y_test, cnn_proba, 'CNN')\n",
    "\n",
    "# Plot a diagonal line for reference\n",
    "plt.plot([0, 1], [0, 1], 'r--')\n",
    "plt.xlim([0.0, 1.0])\n",
    "plt.ylim([0.0, 1.05])\n",
    "plt.xlabel('False Positive Rate')\n",
    "plt.ylabel('True Positive Rate')\n",
    "plt.title('ROC Curves Comparison')\n",
    "plt.legend(loc='lower right')\n",
    "plt.show()"
   ]
  }
 ],
 "metadata": {
  "kaggle": {
   "accelerator": "none",
   "dataSources": [
    {
     "datasetId": 622510,
     "sourceId": 1192499,
     "sourceType": "datasetVersion"
    }
   ],
   "dockerImageVersionId": 30407,
   "isGpuEnabled": false,
   "isInternetEnabled": false,
   "language": "python",
   "sourceType": "notebook"
  },
  "kernelspec": {
   "display_name": "Python (my_new_env)",
   "language": "python",
   "name": "my_new_env"
  },
  "language_info": {
   "codemirror_mode": {
    "name": "ipython",
    "version": 3
   },
   "file_extension": ".py",
   "mimetype": "text/x-python",
   "name": "python",
   "nbconvert_exporter": "python",
   "pygments_lexer": "ipython3",
   "version": "3.12.8"
  }
 },
 "nbformat": 4,
 "nbformat_minor": 4
}
